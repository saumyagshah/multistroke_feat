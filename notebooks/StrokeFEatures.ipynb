{
 "cells": [
  {
   "cell_type": "code",
   "execution_count": 1,
   "metadata": {
    "colab": {},
    "colab_type": "code",
    "id": "xfCi4U2zKXKC"
   },
   "outputs": [],
   "source": [
    "import base64, collections, io, itertools, functools, json, os, random, re, textwrap, time, urllib\n",
    "import numpy as np\n",
    "import pandas as pd\n",
    "import tensorflow as tf\n",
    "from matplotlib import pyplot\n",
    "import seaborn as sns\n",
    "sns.set_style(\"white\")\n",
    "pyplot.style.use('default')"
   ]
  },
  {
   "cell_type": "markdown",
   "metadata": {
    "colab_type": "text",
    "id": "SU0-6vNvlb6O"
   },
   "source": [
    "# Init"
   ]
  },
  {
   "cell_type": "markdown",
   "metadata": {
    "colab_type": "text",
    "id": "2LP97p95lfCq"
   },
   "source": [
    "## Load Dataset"
   ]
  },
  {
   "cell_type": "code",
   "execution_count": 2,
   "metadata": {
    "colab": {},
    "colab_type": "code",
    "id": "2cKCpDVslo54"
   },
   "outputs": [],
   "source": [
    "## Load data from Drive (Colab only).\n",
    "data_path = '../data/'"
   ]
  },
  {
   "cell_type": "code",
   "execution_count": null,
   "metadata": {
    "colab": {
     "base_uri": "https://localhost:8080/",
     "height": 35
    },
    "colab_type": "code",
    "executionInfo": {
     "elapsed": 466,
     "status": "ok",
     "timestamp": 1555057299158,
     "user": {
      "displayName": "Wafa Johal",
      "photoUrl": "https://lh6.googleusercontent.com/-dSe4vNhtGJo/AAAAAAAAAAI/AAAAAAAAIHU/HpRPL_mjkKo/s64/photo.jpg",
      "userId": "02628719330545126296"
     },
     "user_tz": -120
    },
    "id": "YRikjx1Clr9B",
    "outputId": "fbcdf164-fe16-4679-ea26-c719c4018120"
   },
   "outputs": [],
   "source": []
  },
  {
   "cell_type": "code",
   "execution_count": 3,
   "metadata": {
    "colab": {},
    "colab_type": "code",
    "id": "2Z-v_9ZvnDBJ"
   },
   "outputs": [],
   "source": [
    "def convert(line):\n",
    "    \"\"\"Converts single JSON line and converts 'drawing' to list of np.array.\"\"\"\n",
    "    d = json.loads(line)\n",
    "    d['drawing'] = [np.array(stroke) for stroke in d['drawing']]\n",
    "    return d\n",
    "  \n",
    "def loaditer(name, unrecognized=False, letter=False, scaled=False):\n",
    "  \"\"\"Returns iterable of drawings in specified file.\n",
    "\n",
    "  Args:\n",
    "    name: Name of the downloaded object (e.g. \"elephant\").\n",
    "    unrecognized: Whether to include drawings that were not recognized\n",
    "        by Google AI (i.e. the hard ones).\n",
    "  \"\"\"\n",
    "  if(letter): \n",
    "    if(scaled):\n",
    "      data_pathb = data_path+'/uji/'\n",
    "    else:\n",
    "      data_pathb = data_path+'/uji/no_scale/'\n",
    "  else:\n",
    "    data_pathb = data_path\n",
    "  for line in tf.gfile.Open('%s/%s.ndjson' % (data_pathb, name)):\n",
    "    d = convert(line)\n",
    "    if unrecognized or d['recognized'] :\n",
    "      yield d\n",
    "\n",
    "def loadn(name, n, unrecognized=False, letter=False):\n",
    "  \"\"\"Returns list of drawings.\n",
    "\n",
    "  Args:\n",
    "    name: Name of the downloaded object (e.g. \"elephant\").\n",
    "    n: Number of drawings to load.\n",
    "    unrecognized: Whether to include drawings that were not recognized\n",
    "        by Google AI (i.e. the hard ones).\n",
    "  \"\"\"\n",
    "  it = loaditer(name, unrecognized=unrecognized, letter=letter)\n",
    "  return list(itertools.islice(it, 0, n))\n",
    "\n",
    "def loadALine(name,n,unrecognized=False,letter=False, scaled=False):\n",
    "  count = 0\n",
    "  if(letter): \n",
    "    if(scaled):\n",
    "      data_pathb = data_path+'/uji/'\n",
    "    else:\n",
    "      data_pathb = data_path+'/uji/no_scale/'\n",
    "  else:\n",
    "    data_pathb = data_path\n",
    "  for line in tf.gfile.Open('%s/%s.ndjson' % (data_pathb, name)):\n",
    "    if(n == count):\n",
    "      d = convert(line)\n",
    "      if unrecognized or d['recognized'] :\n",
    "          return d\n",
    "    else:\n",
    "      count +=1\n",
    "      continue\n",
    "  \n"
   ]
  },
  {
   "cell_type": "code",
   "execution_count": 4,
   "metadata": {
    "colab": {},
    "colab_type": "code",
    "id": "IK-93jt8n74X"
   },
   "outputs": [],
   "source": [
    "import math\n",
    "\n",
    "def findMinMax(letter): \n",
    "  xmin = min([row[0] for row in letter[0]])\n",
    "  ymin = min([row[1] for row in letter[0]])\n",
    "  xmax = max([row[0] for row in letter[0]])\n",
    "  ymax = max([row[1] for row in letter[0]])\n",
    "  for i in range(1,len(letter)): # for each stroke\n",
    "    x = [row[0] for row in letter[i]]\n",
    "    y = [row[1] for row in letter[i]]\n",
    "    \n",
    "    if min(x) < xmin : xmin = min(x) \n",
    "    if max(x) > xmax : xmax = max(x) \n",
    "    if min(y) < ymin : ymin = min(y) \n",
    "    if max(y) > ymax : ymax = max(y)\n",
    "  return {'xmin':xmin,'xmax':xmax,'ymin':ymin,'ymax':ymax}\n",
    "  \n",
    "\n",
    "def rotate_around_point_highperf(xy, radians, origin=(0, 0)):\n",
    "  \"\"\"Rotate a point around a given point.\n",
    "\n",
    "  I call this the \"high performance\" version since we're caching some$\n",
    "  values that are needed >1 time. It's less readable than the previous\n",
    "  function but it's faster.\n",
    "  \"\"\"\n",
    "  x, y = xy\n",
    "  offset_x, offset_y = origin\n",
    "  adjusted_x = (x - offset_x)\n",
    "  adjusted_y = (y - offset_y)\n",
    "  cos_rad = math.cos(radians)\n",
    "  sin_rad = math.sin(radians)\n",
    "  qx = offset_x + cos_rad * adjusted_x + sin_rad * adjusted_y\n",
    "  qy = offset_y + -sin_rad * adjusted_x + cos_rad * adjusted_y\n",
    "  \n",
    "  return [qx, qy]\n",
    "  \n",
    "def rotate_via_numpy(xy, radians):\n",
    "  \"\"\"Use numpy to build a rotation matrix and take the dot product.\"\"\"\n",
    "  x, y = xy\n",
    "  c, s = np.cos(radians), np.sin(radians)\n",
    "  j = np.matrix([[c, s, 0], [-s, c, 0], [0, 0, 1]])\n",
    "  m = np.dot(j, [x, y, 1])\n",
    "\n",
    "  return [float(m.T[0]), float(m.T[1])]\n",
    "\n",
    "def rotate_path(stroke,radians):\n",
    "  sx = stroke.T[0]\n",
    "  sy = stroke.T[1]\n",
    "  sq = np.array(stroke.T, dtype=float)\n",
    "  for i in range(0, len(sx)):\n",
    "    q = rotate_via_numpy((sx[i],sy[i]),radians)\n",
    "    sq[0][i] = q[0]\n",
    "    sq[1][i] = q[1]\n",
    "  return sq.T\n",
    "\n",
    "def rotate_letter(letter,radians):\n",
    "  letterc = letter.copy()\n",
    "  for i in range(0,len(letter)):\n",
    "    q = rotate_path(letter[i],radians)\n",
    "    letterc[i] = q\n",
    "  return letterc\n",
    "\n",
    "\n",
    "def stroke_cart2polar(stroke): \n",
    "  sx = stroke.T[0]\n",
    "  sy = stroke.T[1]\n",
    "  sq = np.array(stroke.T, dtype=float)\n",
    "  for i in range(0, len(sx)):\n",
    "    q = cart2polar(sx[i],sy[i])\n",
    "    sq[0][i] = q[0]pca.components_\n",
    "    sq[1][i] = q[1]\n",
    "  return sq.T\n",
    "\n",
    "\n",
    "def letter_cart2polar(letter): \n",
    "  letterc = letter.copy()\n",
    "  for i in range(0,len(letter)):\n",
    "    q = stroke_cart2polar(letter[i])\n",
    "    letterc[i] = q\n",
    "  return letterc\n",
    "\n",
    "\n",
    "def cart2polar(x, y):\n",
    "  r = np.sqrt(x**2 + y**2)\n",
    "  theta = np.arctan2(x, y)  # θ referenced to vertical\n",
    "  return r, theta\n",
    "\n",
    "\n",
    "def polar2cart(r, theta):\n",
    "  y = r * np.cos(theta)   # θ referenced to vertical\n",
    "  x = r * np.sin(theta)\n",
    "  return x, y\n",
    "  \n",
    "  \n",
    "def stroke_polar2cart(stroke): \n",
    "  sx = stroke.T[0]\n",
    "  sy = stroke.T[1]\n",
    "  sq =  np.array(stroke.T, dtype=float)\n",
    "  for i in range(0, len(sx)):\n",
    "    q = polar2cart(sx[i],sy[i])\n",
    "    sq[0][i] = q[0]\n",
    "    sq[1][i] = q[1]\n",
    "  return sq.T\n",
    "\n",
    "\n",
    "def letter_polar2cart(letter): \n",
    "  letterc = letter.copy()\n",
    "  for i in range(0,len(letter)):\n",
    "    q = stroke_polar2cart(letter[i])\n",
    "    letterc[i] = q\n",
    "  return letterc\n",
    "\n",
    "\n",
    "\n",
    "def plotLetter(letter):\n",
    "  for stroke in letter['drawing']:\n",
    "    xy = stroke.T\n",
    "    pyplot.plot(xy[0,:], -xy[1,:])\n",
    "    pxy = xy[:]\n",
    "    # Indicate \"point captured\" with a red circle.\n",
    "    pyplot.plot(pxy[0], -pxy[1], 'bo');\n",
    "    pyplot.plot(pxy[0,0], -pxy[1,0], 'r*')\n",
    "    \n",
    "    \n",
    "def plotLetterScaled(letter):\n",
    "  for stroke in letter['drawing']:\n",
    "    xy = stroke.T\n",
    "    pyplot.plot(xy[0,:], xy[1,:])\n",
    "    pxy = xy[:]\n",
    "    # Indicate \"point captured\" with a red circle.\n",
    "    pyplot.plot(pxy[0], pxy[1], 'bo');\n",
    "    pyplot.plot(pxy[0,0], pxy[1,0], 'r*')\n",
    "  \n",
    "  \n",
    "def rescale(letter):\n",
    "  scaled_letter = [] \n",
    "  minmax = findMinMax(letter)\n",
    "  #print(minmax)\n",
    "  for i in range(0,len(letter)): # for each stroke\n",
    "    x = [row[0] for row in letter[i]]\n",
    "    y = [row[1] for row in letter[i]]\n",
    "    \n",
    "    x = [(i - minmax['xmin'])/ (minmax['xmax']- minmax['xmin'])   for i in x]\n",
    "    y = [(j - minmax['ymin'])/ (minmax['ymax']- minmax['ymin'])  for j in y]\n",
    "    \n",
    "    \n",
    "    \n",
    "    row = list(zip(x,y))\n",
    "    scaled_letter.append(row)\n",
    "  \n",
    "  return scaled_letter\n",
    "\n",
    "\n",
    "def rescaleLetter(letter):\n",
    "  scaled_letter = letter.copy()\n",
    "  minmax = findMinMax(letter)\n",
    "  #print(minmax)\n",
    "  for i in range(0,len(letter)): # for each stroke\n",
    "    x = [row[0] for row in letter[i]]\n",
    "    y = [row[1] for row in letter[i]]\n",
    "    \n",
    "    x = [(i - minmax['xmin'])/ (minmax['xmax']- minmax['xmin'])   for i in x]\n",
    "    y = [(j - minmax['ymin'])/ (minmax['ymax']- minmax['ymin'])  for j in y]\n",
    "    \n",
    "    sq =  np.array(letter[i].T, dtype=float)\n",
    "    sq[0] = x\n",
    "    sq[1] = y\n",
    "    \n",
    "    scaled_letter[i] = sq.T\n",
    "  \n",
    "  return scaled_letter\n",
    "\n",
    "\n",
    "\n",
    "def zstroke(stroke):\n",
    "  sx = stroke.T[0]\n",
    "  sy = stroke.T[1]\n",
    "  sq = np.array(stroke.T, dtype=float)\n",
    "  sq = stats.zscore(sq, axis=1)\n",
    "  return sq.T\n",
    "\n",
    "def zletter(letter):\n",
    "  sx = stroke.T[0]\n",
    "  sy = stroke.T[1]\n",
    "  sq = np.array(stroke.T, dtype=float)\n",
    "  sq = stats.zscore(sq, axis=1)\n",
    "  return sq.T\n",
    "  "
   ]
  },
  {
   "cell_type": "code",
   "execution_count": 5,
   "metadata": {
    "colab": {
     "base_uri": "https://localhost:8080/",
     "height": 563
    },
    "colab_type": "code",
    "executionInfo": {
     "elapsed": 1521,
     "status": "ok",
     "timestamp": 1555057304542,
     "user": {
      "displayName": "Wafa Johal",
      "photoUrl": "https://lh6.googleusercontent.com/-dSe4vNhtGJo/AAAAAAAAAAI/AAAAAAAAIHU/HpRPL_mjkKo/s64/photo.jpg",
      "userId": "02628719330545126296"
     },
     "user_tz": -120
    },
    "id": "gmSDTkbHnRzg",
    "outputId": "76b162a4-c793-4937-a948-8aac75fbb2d7"
   },
   "outputs": [
    {
     "data": {
      "text/plain": [
       "<matplotlib.figure.Figure at 0x7fd8311f56d0>"
      ]
     },
     "metadata": {},
     "output_type": "display_data"
    },
    {
     "data": {
      "image/png": "[encoded data removed]",
      "text/plain": [
       "<matplotlib.figure.Figure at 0x7fd8311f5910>"
      ]
     },
     "metadata": {},
     "output_type": "display_data"
    }
   ],
   "source": [
    "letterChar = 'B' #@param [\"A\", \"a\", \"b\", \"B\",\"C\",\"c\",\"L\",\"l\",\"O\",\"o\"] {allow-input: true}\n",
    "minLet = 24 #@param {type:\"slider\", min:0, max:119, step:1}\n",
    "nb = 2 #@param {type:\"slider\", min:2, max:10, step:1}\n",
    "\n",
    "# Some more letters...\n",
    "rows, cols = nb, 2\n",
    "\n",
    "# Some more letters...\n",
    "pyplot.figure(3)\n",
    "pyplot.figure(figsize=(3*cols, 3*rows))\n",
    "for y in range(rows):\n",
    "  for x in range(cols):\n",
    "    i = y * cols + x \n",
    "    pyplot.subplot(rows, cols, i + 1)\n",
    "    pyplot.title(minLet+i)\n",
    "    letter_sample = loadALine(letterChar,minLet+i, letter=True, unrecognized=True)\n",
    "    plotLetter(letter_sample)\n",
    "    #for s in letter_sample['drawing']:\n",
    "    #  pyplot.plot(s.T[0], -s.T[1])\n",
    "\n",
    "\n",
    "  \n",
    "nice_l = {'B':28, 'A':21,'a':69,'b':61, 'C':37, 'c':89,'L':34, 'l':32, 'O':32, 'o':56}\n",
    "#b 71, b 46"
   ]
  },
  {
   "cell_type": "code",
   "execution_count": null,
   "metadata": {
    "colab": {},
    "colab_type": "code",
    "id": "VNpUPWeOpDu9"
   },
   "outputs": [],
   "source": []
  },
  {
   "cell_type": "markdown",
   "metadata": {
    "colab_type": "text",
    "id": "FYUSEBYtKo5k"
   },
   "source": [
    "#  Preprocessing\n",
    "\n",
    "done at the letter level"
   ]
  },
  {
   "cell_type": "markdown",
   "metadata": {
    "colab_type": "text",
    "id": "gqbDHBEKKsBG"
   },
   "source": [
    "noramize and translate to 128\n",
    "\n",
    "8 unit between 2 points in resampling"
   ]
  },
  {
   "cell_type": "code",
   "execution_count": 6,
   "metadata": {
    "colab": {},
    "colab_type": "code",
    "id": "ScwrMeb9M34v"
   },
   "outputs": [],
   "source": [
    "from matplotlib.patches import Rectangle\n",
    "from sklearn import preprocessing\n",
    "from scipy.interpolate import splprep\n",
    "from scipy.signal import resample\n",
    "\n",
    "\n",
    "def boxCenter(box):\n",
    "  return ((box['xmax']-box['xmin'])/2, (box['ymax']-box['ymin'])/2)\n",
    "  \n",
    "\n",
    "def getBondingBox(letter):\n",
    "  '''\n",
    "  returns centroid, w and l and top left corner \n",
    "  \n",
    "  '''\n",
    "  \n",
    "  minmax = findMinMax(letter['drawing'])\n",
    "  centroid = boxCenter(minmax)\n",
    "  size = (minmax['xmax'] - minmax['xmin'] , minmax['ymax'] - minmax['ymin'] )\n",
    "  \n",
    "  \n",
    "  return (centroid, size, ( minmax['xmin'] , minmax['ymin'] ))\n",
    "\n",
    "\n",
    "def drawBox(x,y,w,l):\n",
    "  # Create a Rectangle patch\n",
    "  rect = Rectangle((x,y),w,l,linewidth=1,edgecolor='r',facecolor='none')\n",
    "\n",
    "  # Get the current reference\n",
    "  ax = pyplot.gca()\n",
    "\n",
    "  # Add the patch to the Axes\n",
    "  ax.add_patch(rect)\n",
    "\n",
    "\n",
    "def linearScaling(letter, dim=128):\n",
    "  scaled_letter = letter.copy()\n",
    "  minmax = findMinMax(letter['drawing'])\n",
    "  for i in range(0, len(letter['drawing'])): # for each stroke\n",
    "    x = [row[0] for row in letter['drawing'][i]]\n",
    "    y = [row[1] for row in letter['drawing'][i]]\n",
    "    \n",
    "    x = [float(j - minmax['xmin'])/ (minmax['xmax']- minmax['xmin'])   for j in x]\n",
    "    y = [float(j - minmax['ymin'])/ (minmax['ymax']- minmax['ymin'])  for j in y]\n",
    "    y = [j * -1 for j in y]\n",
    "    \n",
    "    sq =  np.array(letter['drawing'][i].T, dtype=float)\n",
    "    \n",
    "    sq[0] = x\n",
    "    sq[1] = y \n",
    "    \n",
    "    scaled_letter['drawing'][i] = sq.T *dim\n",
    "  \n",
    "  return scaled_letter\n",
    "\n",
    "\n",
    "'''def resampleLetter(letter,eq=8):\n",
    "  scaled_letter = letter.copy()\n",
    "  \n",
    "  for i in range(0,len(letter['drawing'])): # for each stroke\n",
    "    sq =  np.array(letter['drawing'][i], dtype=float)\n",
    "    x = [row[0] for row in sq]\n",
    "    y = [row[1] for row in sq]\n",
    "    print(len(x))\n",
    "    x =  resample(x, eq)\n",
    "    y =  resample(y, eq)\n",
    "    print(len(x))\n",
    "    \n",
    "    sq[0] = x\n",
    "    sq[1] = y \n",
    "    \n",
    "    \n",
    "    scaled_letter['drawing'][i] = sq\n",
    "  \n",
    "  return scaled_letter\n",
    "'''\n",
    "  \n",
    "\n",
    "def translation():\n",
    "  '''\n",
    "  Centers the drawing in a w,h size\n",
    "  '''\n",
    "  \n",
    "  return\n",
    "  "
   ]
  },
  {
   "cell_type": "code",
   "execution_count": 20,
   "metadata": {
    "colab": {
     "base_uri": "https://localhost:8080/",
     "height": 849
    },
    "colab_type": "code",
    "executionInfo": {
     "elapsed": 1447,
     "status": "ok",
     "timestamp": 1555057308163,
     "user": {
      "displayName": "Wafa Johal",
      "photoUrl": "https://lh6.googleusercontent.com/-dSe4vNhtGJo/AAAAAAAAAAI/AAAAAAAAIHU/HpRPL_mjkKo/s64/photo.jpg",
      "userId": "02628719330545126296"
     },
     "user_tz": -120
    },
    "id": "R2jkfmu_NhBH",
    "outputId": "584cff7d-4083-4668-f8b6-978d15b34a94"
   },
   "outputs": [
    {
     "data": {
      "image/png": "[encoded data removed]",
      "text/plain": [
       "<matplotlib.figure.Figure at 0x7fd7b5312950>"
      ]
     },
     "metadata": {},
     "output_type": "display_data"
    },
    {
     "data": {
      "image/png": "[encoded data removed]",
      "text/plain": [
       "<matplotlib.figure.Figure at 0x7fd7b50e88d0>"
      ]
     },
     "metadata": {},
     "output_type": "display_data"
    }
   ],
   "source": [
    "letterChar = 'B' #@param [\"A\", \"a\", \"b\", \"B\",\"C\",\"c\",\"L\",\"l\",\"O\",\"o\"] {allow-input: true}\n",
    "minLet = 24 #@param {type:\"slider\", min:0, max:119, step:1}\n",
    "\n",
    "\n",
    "\n",
    "letter_sample = loadALine(letterChar,minLet, letter=True, unrecognized=True)\n",
    "\n",
    "centroid, size, ori = getBondingBox(letter_sample)\n",
    "w,l = size\n",
    "xm, ym = ori\n",
    "drawBox(xm,-ym,w,-l)\n",
    "# print(letter_sample)\n",
    "plotLetter(letter_sample)\n",
    "\n",
    "pyplot.figure(3)\n",
    "pyplot.ylim((-140, 10))\n",
    "scaled = linearScaling(letter_sample)\n",
    "plotLetterScaled(scaled)"
   ]
  },
  {
   "cell_type": "markdown",
   "metadata": {
    "colab_type": "text",
    "id": "9YqJTLMojubH"
   },
   "source": [
    "# HBF49 Features"
   ]
  },
  {
   "cell_type": "markdown",
   "metadata": {
    "colab_type": "text",
    "id": "B7FVa_yGLOnO"
   },
   "source": [
    "## Dynamic Features for each stroke\n",
    "\n",
    "- starting point position (f1, f2)\n",
    "- ending point position (f3, f4)\n",
    "- first to last point vector v "
   ]
  },
  {
   "cell_type": "code",
   "execution_count": 8,
   "metadata": {
    "colab": {},
    "colab_type": "code",
    "id": "-ebLlkU4KX1B"
   },
   "outputs": [],
   "source": [
    "def f1(stroke, centroid, dim):\n",
    "  return (stroke[0,0] - centroid[0])/dim +1/2 \n",
    "\n",
    "def f2(stroke, centroid, dim):\n",
    "  return (stroke[0,1] - centroid[1])/dim +1/2 \n",
    "\n",
    "def f3(stroke, centroid, dim):\n",
    "  return (stroke[-1,0] - centroid[0])/dim +1/2 \n",
    "\n",
    "def f4(stroke, centroid, dim):\n",
    "  return (stroke[-1,1] - centroid[1])/dim +1/2 \n"
   ]
  },
  {
   "cell_type": "code",
   "execution_count": 9,
   "metadata": {
    "colab": {},
    "colab_type": "code",
    "id": "IH7NlezDoHhy"
   },
   "outputs": [],
   "source": [
    "from numpy import linalg as LA\n",
    "from scipy.spatial import distance\n",
    "\n",
    "def getVEndStart(stroke):\n",
    "  return np.array([stroke[-1,0] - stroke[0,0], stroke[-1,1] - stroke[0,1]])\n",
    "\n",
    "def f5(vendstart):\n",
    "  return LA.norm(vendstart)\n",
    "\n",
    "def f6(vendstart): #c53\n",
    "  ux = np.array([1,0])\n",
    "  nv  =  vendstart / LA.norm(vendstart)\n",
    "  a = np.dot(nv,ux)\n",
    "  print(a)\n",
    "  return np.cos(a)\n",
    "\n",
    "def f7(vendstart): #c54\n",
    "  uy = np.array([0,1])\n",
    "  nv  =  vendstart / LA.norm(vendstart)\n",
    "  a = np.dot(nv,uy)\n",
    "  print(a)\n",
    "  return np.sin(a)"
   ]
  },
  {
   "cell_type": "code",
   "execution_count": 10,
   "metadata": {
    "colab": {},
    "colab_type": "code",
    "id": "48cmG8JutrhW"
   },
   "outputs": [],
   "source": [
    "from math import hypot\n",
    "\n",
    "def getLengthPath(stroke):\n",
    "  lengths = np.sqrt(np.sum(np.diff(stroke, axis=0)**2, axis=1)) # Length between corners\n",
    "  total_length = np.sum(lengths)\n",
    "  return total_length\n",
    "\n",
    "def getLengthLetter(letter):\n",
    "  lengths = [getLengthPath(s) for s in letter['drawing']]\n",
    "  total_length = np.sum(lengths)\n",
    "  return total_length\n",
    "\n",
    "def f8(vendstart,l): #D8 Closure\n",
    "  return f5(vendstart)/l"
   ]
  },
  {
   "cell_type": "code",
   "execution_count": 11,
   "metadata": {
    "colab": {
     "base_uri": "https://localhost:8080/",
     "height": 35
    },
    "colab_type": "code",
    "executionInfo": {
     "elapsed": 471,
     "status": "ok",
     "timestamp": 1555057314606,
     "user": {
      "displayName": "Wafa Johal",
      "photoUrl": "https://lh6.googleusercontent.com/-dSe4vNhtGJo/AAAAAAAAAAI/AAAAAAAAIHU/HpRPL_mjkKo/s64/photo.jpg",
      "userId": "02628719330545126296"
     },
     "user_tz": -120
    },
    "id": "Hioi8YJsmQLn",
    "outputId": "8a685661-e801-4997-f631-21dcde739b70"
   },
   "outputs": [
    {
     "name": "stdout",
     "output_type": "stream",
     "text": [
      "430.67425430003266\n"
     ]
    }
   ],
   "source": [
    "s = letter_sample['drawing'][1]\n",
    "v = getVEndStart(s)\n",
    "l = getLengthPath(s)\n",
    "ll = getLengthLetter(letter_sample)\n",
    "\n",
    "f8(v, l)\n",
    "print(l)"
   ]
  },
  {
   "cell_type": "code",
   "execution_count": 12,
   "metadata": {
    "colab": {},
    "colab_type": "code",
    "id": "eXlXEB5Pmg0i"
   },
   "outputs": [],
   "source": [
    "def getInitialVect(stroke): ## consider vect between first and third point\n",
    "  return np.array([stroke[2,0] - stroke[0,0], stroke[2,1] - stroke[0,1]])\n",
    "\n",
    "def f9(initVect):\n",
    "  return f6(initVect)\n",
    "\n",
    "def f10(initVect):\n",
    "  return f7(initVect)\n",
    "  "
   ]
  },
  {
   "cell_type": "code",
   "execution_count": 13,
   "metadata": {
    "colab": {
     "base_uri": "https://localhost:8080/",
     "height": 35
    },
    "colab_type": "code",
    "executionInfo": {
     "elapsed": 661,
     "status": "ok",
     "timestamp": 1555057317157,
     "user": {
      "displayName": "Wafa Johal",
      "photoUrl": "https://lh6.googleusercontent.com/-dSe4vNhtGJo/AAAAAAAAAAI/AAAAAAAAIHU/HpRPL_mjkKo/s64/photo.jpg",
      "userId": "02628719330545126296"
     },
     "user_tz": -120
    },
    "id": "rs_xN-5JvhUX",
    "outputId": "28d471ab-0d2f-40a4-9bbc-48464b1c69b8"
   },
   "outputs": [
    {
     "data": {
      "text/plain": [
       "0.0"
      ]
     },
     "execution_count": 13,
     "metadata": {},
     "output_type": "execute_result"
    }
   ],
   "source": [
    "def getMiddlePoint(stroke):\n",
    "  m = int(len(stroke)/2)\n",
    "  return stroke[m]\n",
    "\n",
    "def f11(stroke, m, dim):\n",
    "  return 1/w * (m[0] - (stroke[0,0] + stroke[-1,0])/2)\n",
    "\n",
    "def f12(stroke, m, dim):\n",
    "  return 1/w * (m[1] - (stroke[0,1] + stroke[-1,1])/2)\n",
    "\n",
    "m = getMiddlePoint(s)\n",
    "f12(s,m,128)"
   ]
  },
  {
   "cell_type": "code",
   "execution_count": 14,
   "metadata": {
    "colab": {},
    "colab_type": "code",
    "id": "gf12D2-DjgB2"
   },
   "outputs": [],
   "source": [
    "import math\n",
    "\n",
    "def f14(letter):\n",
    "  return letter['nb_stroke']\n",
    "\n",
    "f14(letter_sample)\n",
    "\n",
    "\n",
    "centroid, size, ori = getBondingBox(letter_sample)\n",
    "w,l = size\n",
    "xm, ym = ori"
   ]
  },
  {
   "cell_type": "markdown",
   "metadata": {
    "colab_type": "text",
    "id": "eeYKG440jiXt"
   },
   "source": [
    "## Visual Features"
   ]
  },
  {
   "cell_type": "code",
   "execution_count": 80,
   "metadata": {
    "colab": {},
    "colab_type": "code",
    "id": "savPG91XSONW"
   },
   "outputs": [],
   "source": [
    "\n",
    "def f15(size):\n",
    "  w,h = size\n",
    "  return math.atan(h/w)\n",
    "\n",
    "def f16(letter):\n",
    "  return getLengthLetter(letter)\n",
    "\n",
    "def f17(l_length, size):\n",
    "  w,h = size\n",
    "  return (w+h)/l_length\n",
    "  \n",
    "def centroidLetter(letter):\n",
    "  centroids = [ centroidStroke(stroke) for stroke in letter['drawing']]  \n",
    "  return np.average(centroids, axis=0)\n",
    "\n",
    "def centroidStroke(arr):\n",
    "  sum_x = np.sum(arr[:, 0])\n",
    "  sum_y = np.sum(arr[:, 1])\n",
    "  return [float(sum_x)/len(arr), float(sum_y)/len(arr)]\n",
    "\n",
    "def f18(stroke, centroid):\n",
    "  deviations = [np.abs(si - centroid) for si in stroke]\n",
    "  print(deviations)\n",
    "  return np.average(deviations, axis=0)\n"
   ]
  },
  {
   "cell_type": "code",
   "execution_count": 16,
   "metadata": {
    "colab": {
     "base_uri": "https://localhost:8080/",
     "height": 35
    },
    "colab_type": "code",
    "executionInfo": {
     "elapsed": 699,
     "status": "ok",
     "timestamp": 1555057322366,
     "user": {
      "displayName": "Wafa Johal",
      "photoUrl": "https://lh6.googleusercontent.com/-dSe4vNhtGJo/AAAAAAAAAAI/AAAAAAAAIHU/HpRPL_mjkKo/s64/photo.jpg",
      "userId": "02628719330545126296"
     },
     "user_tz": -120
    },
    "id": "Wa58-Yg58Pb6",
    "outputId": "4e6e0a20-8b10-4e91-db86-5fad02efa6a8"
   },
   "outputs": [
    {
     "data": {
      "text/plain": [
       "array([ 37.8842162 , -60.84246015])"
      ]
     },
     "execution_count": 16,
     "metadata": {},
     "output_type": "execute_result"
    }
   ],
   "source": [
    "centroidd = centroidLetter(letter_sample)\n",
    "centroidd"
   ]
  },
  {
   "cell_type": "code",
   "execution_count": 17,
   "metadata": {
    "colab": {},
    "colab_type": "code",
    "id": "mUKSxtpaeghH"
   },
   "outputs": [],
   "source": [
    "def f19(stroke): \n",
    "  directions = [np.arctan((stroke[i+1][1]- stroke[i][1])/stroke[i+1][0]- stroke[i][0]) for i in range(len(stroke)-1)]\n",
    "  return np.average(directions, axis=0)\n",
    "  "
   ]
  },
  {
   "cell_type": "code",
   "execution_count": 18,
   "metadata": {
    "colab": {},
    "colab_type": "code",
    "id": "JbwwLU01YbJJ"
   },
   "outputs": [],
   "source": [
    "import math\n",
    "\n",
    "def dotproduct(v1, v2):\n",
    "  return sum((a*b) for a, b in zip(v1, v2))\n",
    "\n",
    "def length(v):\n",
    "  return math.sqrt(dotproduct(v, v))\n",
    "\n",
    "def arccos(v1, v2):\n",
    "  return math.acos(dotproduct(v1, v2) / (length(v1) * length(v2)))\n",
    "\n",
    "def thetaI(stroke, i):\n",
    "  return arccos(stroke[i] - stroke[i-1], stroke[i+1] -stroke[i])\n",
    "\n",
    "\n",
    "def f20(stroke):\n",
    "  curvatures = [thetaI(stroke, i) for i in range(2, len(stroke)-1)]\n",
    "  filt = filter(lambda v: v==v, curvatures) ## filter out the nan values\n",
    "  curvatures = [x for x in filt]\n",
    "  return np.sum(curvatures)\n",
    "\n",
    "def f21(stroke):\n",
    "  curvatures = [math.pow(math.sin(thetaI(stroke, i)),2) for i in range(2, len(stroke)-1)]\n",
    "  filt = filter(lambda v: v==v, curvatures) ## filter out the nan values\n",
    "  curvatures = [x for x in filt]\n",
    "  return np.sum(curvatures)\n",
    "\n",
    "def thetaIk(stroke, i, k):\n",
    "  return arccos(stroke[i] - stroke[i-k], stroke[i+k] -stroke[i])\n",
    "\n",
    "def f22(stroke, k):\n",
    "  curvatures = [math.pow(math.sin(thetaIk(stroke, i, k)),2) for i in range(2, len(stroke)-1)]\n",
    "  filt = filter(lambda v: v==v, curvatures) ## filter out the nan values\n",
    "  curvatures = [x for x in filt]\n",
    "  return np.sum(curvatures)\n",
    "\n",
    "def f23(stroke, k):\n",
    "  curvatures = [thetaIk(stroke, i, k) for i in range(2, len(stroke)-1)]\n",
    "  filt = filter(lambda v: v==v, curvatures) ## filter out the nan values\n",
    "  curvatures = [x for x in filt]\n",
    "  return np.max(curvatures)\n",
    "\n"
   ]
  },
  {
   "cell_type": "code",
   "execution_count": 19,
   "metadata": {
    "colab": {
     "base_uri": "https://localhost:8080/",
     "height": 408
    },
    "colab_type": "code",
    "executionInfo": {
     "elapsed": 786,
     "status": "error",
     "timestamp": 1555062458614,
     "user": {
      "displayName": "Wafa Johal",
      "photoUrl": "https://lh6.googleusercontent.com/-dSe4vNhtGJo/AAAAAAAAAAI/AAAAAAAAIHU/HpRPL_mjkKo/s64/photo.jpg",
      "userId": "02628719330545126296"
     },
     "user_tz": -120
    },
    "id": "08P8ydh9pBdD",
    "outputId": "5310087b-1bfd-4f8d-fbee-be76cdf9dcd4"
   },
   "outputs": [
    {
     "ename": "ValueError",
     "evalue": "autodetected range of [nan, nan] is not finite",
     "output_type": "error",
     "traceback": [
      "\u001b[0;31m---------------------------------------------------------------------------\u001b[0m",
      "\u001b[0;31mValueError\u001b[0m                                Traceback (most recent call last)",
      "\u001b[0;32m<ipython-input-19-59d781079dcc>\u001b[0m in \u001b[0;36m<module>\u001b[0;34m()\u001b[0m\n\u001b[1;32m     11\u001b[0m \u001b[0;34m\u001b[0m\u001b[0m\n\u001b[1;32m     12\u001b[0m \u001b[0mlh\u001b[0m \u001b[0;34m=\u001b[0m \u001b[0msegmentOrientationList\u001b[0m\u001b[0;34m(\u001b[0m\u001b[0ms\u001b[0m\u001b[0;34m)\u001b[0m\u001b[0;34m\u001b[0m\u001b[0m\n\u001b[0;32m---> 13\u001b[0;31m \u001b[0mnp\u001b[0m\u001b[0;34m.\u001b[0m\u001b[0mhistogram\u001b[0m\u001b[0;34m(\u001b[0m\u001b[0mlh\u001b[0m\u001b[0;34m,\u001b[0m \u001b[0mbins\u001b[0m\u001b[0;34m=\u001b[0m\u001b[0;36m8\u001b[0m\u001b[0;34m)\u001b[0m\u001b[0;34m\u001b[0m\u001b[0m\n\u001b[0m",
      "\u001b[0;32m/usr/local/lib/python2.7/dist-packages/numpy/lib/histograms.pyc\u001b[0m in \u001b[0;36mhistogram\u001b[0;34m(a, bins, range, normed, weights, density)\u001b[0m\n\u001b[1;32m    778\u001b[0m     \u001b[0ma\u001b[0m\u001b[0;34m,\u001b[0m \u001b[0mweights\u001b[0m \u001b[0;34m=\u001b[0m \u001b[0m_ravel_and_check_weights\u001b[0m\u001b[0;34m(\u001b[0m\u001b[0ma\u001b[0m\u001b[0;34m,\u001b[0m \u001b[0mweights\u001b[0m\u001b[0;34m)\u001b[0m\u001b[0;34m\u001b[0m\u001b[0m\n\u001b[1;32m    779\u001b[0m \u001b[0;34m\u001b[0m\u001b[0m\n\u001b[0;32m--> 780\u001b[0;31m     \u001b[0mbin_edges\u001b[0m\u001b[0;34m,\u001b[0m \u001b[0muniform_bins\u001b[0m \u001b[0;34m=\u001b[0m \u001b[0m_get_bin_edges\u001b[0m\u001b[0;34m(\u001b[0m\u001b[0ma\u001b[0m\u001b[0;34m,\u001b[0m \u001b[0mbins\u001b[0m\u001b[0;34m,\u001b[0m \u001b[0mrange\u001b[0m\u001b[0;34m,\u001b[0m \u001b[0mweights\u001b[0m\u001b[0;34m)\u001b[0m\u001b[0;34m\u001b[0m\u001b[0m\n\u001b[0m\u001b[1;32m    781\u001b[0m \u001b[0;34m\u001b[0m\u001b[0m\n\u001b[1;32m    782\u001b[0m     \u001b[0;31m# Histogram is an integer or a float array depending on the weights.\u001b[0m\u001b[0;34m\u001b[0m\u001b[0;34m\u001b[0m\u001b[0m\n",
      "\u001b[0;32m/usr/local/lib/python2.7/dist-packages/numpy/lib/histograms.pyc\u001b[0m in \u001b[0;36m_get_bin_edges\u001b[0;34m(a, bins, range, weights)\u001b[0m\n\u001b[1;32m    415\u001b[0m             \u001b[0;32mraise\u001b[0m \u001b[0mValueError\u001b[0m\u001b[0;34m(\u001b[0m\u001b[0;34m'`bins` must be positive, when an integer'\u001b[0m\u001b[0;34m)\u001b[0m\u001b[0;34m\u001b[0m\u001b[0m\n\u001b[1;32m    416\u001b[0m \u001b[0;34m\u001b[0m\u001b[0m\n\u001b[0;32m--> 417\u001b[0;31m         \u001b[0mfirst_edge\u001b[0m\u001b[0;34m,\u001b[0m \u001b[0mlast_edge\u001b[0m \u001b[0;34m=\u001b[0m \u001b[0m_get_outer_edges\u001b[0m\u001b[0;34m(\u001b[0m\u001b[0ma\u001b[0m\u001b[0;34m,\u001b[0m \u001b[0mrange\u001b[0m\u001b[0;34m)\u001b[0m\u001b[0;34m\u001b[0m\u001b[0m\n\u001b[0m\u001b[1;32m    418\u001b[0m \u001b[0;34m\u001b[0m\u001b[0m\n\u001b[1;32m    419\u001b[0m     \u001b[0;32melif\u001b[0m \u001b[0mnp\u001b[0m\u001b[0;34m.\u001b[0m\u001b[0mndim\u001b[0m\u001b[0;34m(\u001b[0m\u001b[0mbins\u001b[0m\u001b[0;34m)\u001b[0m \u001b[0;34m==\u001b[0m \u001b[0;36m1\u001b[0m\u001b[0;34m:\u001b[0m\u001b[0;34m\u001b[0m\u001b[0m\n",
      "\u001b[0;32m/usr/local/lib/python2.7/dist-packages/numpy/lib/histograms.pyc\u001b[0m in \u001b[0;36m_get_outer_edges\u001b[0;34m(a, range)\u001b[0m\n\u001b[1;32m    313\u001b[0m         \u001b[0;32mif\u001b[0m \u001b[0;32mnot\u001b[0m \u001b[0;34m(\u001b[0m\u001b[0mnp\u001b[0m\u001b[0;34m.\u001b[0m\u001b[0misfinite\u001b[0m\u001b[0;34m(\u001b[0m\u001b[0mfirst_edge\u001b[0m\u001b[0;34m)\u001b[0m \u001b[0;32mand\u001b[0m \u001b[0mnp\u001b[0m\u001b[0;34m.\u001b[0m\u001b[0misfinite\u001b[0m\u001b[0;34m(\u001b[0m\u001b[0mlast_edge\u001b[0m\u001b[0;34m)\u001b[0m\u001b[0;34m)\u001b[0m\u001b[0;34m:\u001b[0m\u001b[0;34m\u001b[0m\u001b[0m\n\u001b[1;32m    314\u001b[0m             raise ValueError(\n\u001b[0;32m--> 315\u001b[0;31m                 \"autodetected range of [{}, {}] is not finite\".format(first_edge, last_edge))\n\u001b[0m\u001b[1;32m    316\u001b[0m \u001b[0;34m\u001b[0m\u001b[0m\n\u001b[1;32m    317\u001b[0m     \u001b[0;31m# expand empty range to avoid divide by zero\u001b[0m\u001b[0;34m\u001b[0m\u001b[0;34m\u001b[0m\u001b[0m\n",
      "\u001b[0;31mValueError\u001b[0m: autodetected range of [nan, nan] is not finite"
     ]
    }
   ],
   "source": [
    "def segmentOrientation(stroke, i):\n",
    "  si =  stroke[i+1] -stroke[i]\n",
    "  ux = [length(si), 0]\n",
    "  return arccos(si, ux)\n",
    "\n",
    "segmentOrientation(s,8)\n",
    "\n",
    "def segmentOrientationList(stroke):\n",
    "  segtO = [segmentOrientation(stroke, i) for i in range(len(stroke) -1)]\n",
    "  return segtO\n",
    "  \n",
    "lh = segmentOrientationList(s)\n",
    "np.histogram(lh, bins=8)"
   ]
  },
  {
   "cell_type": "code",
   "execution_count": 269,
   "metadata": {
    "colab": {},
    "colab_type": "code",
    "id": "AGVBl_KLbI6-"
   },
   "outputs": [
    {
     "data": {
      "text/plain": [
       "array([[   6.66997519,  -22.60268714],\n",
       "       [  13.33995037,  -14.24952015],\n",
       "       [  19.37468983,   -9.09021113],\n",
       "       [  28.90322581,   -3.43953935],\n",
       "       [  38.43176179,   -0.73704415],\n",
       "       [  48.91315136,   -0.        ],\n",
       "       [  61.617866  ,   -0.        ],\n",
       "       [  72.41687345,   -2.45681382],\n",
       "       [  82.58064516,   -5.4049904 ],\n",
       "       [  90.20347395,  -11.05566219],\n",
       "       [  95.92059553,  -16.21497121],\n",
       "       [  96.55583127,  -23.58541267],\n",
       "       [  95.2853598 ,  -29.23608445],\n",
       "       [  88.93300248,  -36.36084453],\n",
       "       [  81.62779156,  -41.76583493],\n",
       "       [  71.14640199,  -47.17082534],\n",
       "       [  61.93548387,  -50.85604607],\n",
       "       [  51.77171216,  -54.04990403],\n",
       "       [  43.19602978,  -56.01535509],\n",
       "       [  37.16129032,  -57.243762  ],\n",
       "       [  34.62034739,  -57.48944338],\n",
       "       [  34.62034739,  -57.48944338],\n",
       "       [  37.79652605,  -57.73512476],\n",
       "       [  43.83126551,  -57.98080614],\n",
       "       [  52.08933002,  -58.71785029],\n",
       "       [  62.25310174,  -60.43761996],\n",
       "       [  73.36972705,  -63.14011516],\n",
       "       [  85.12158809,  -67.31669866],\n",
       "       [  96.87344913,  -72.2303263 ],\n",
       "       [ 107.35483871,  -78.37236084],\n",
       "       [ 116.88337469,  -85.49712092],\n",
       "       [ 123.87096774,  -92.86756238],\n",
       "       [ 128.        , -100.48368522],\n",
       "       [ 127.68238213, -108.34548944],\n",
       "       [ 123.87096774, -114.73320537],\n",
       "       [ 115.29528536, -120.62955854],\n",
       "       [ 104.17866005, -124.80614203],\n",
       "       [  89.25062035, -127.26295585],\n",
       "       [  72.73449132, -128.        ],\n",
       "       [  55.58312655, -127.01727447],\n",
       "       [  39.38461538, -124.56046065],\n",
       "       [  27.31513648, -120.62955854],\n",
       "       [  18.42183623, -117.68138196],\n",
       "       [  13.33995037, -113.99616123],\n",
       "       [  12.38709677, -109.57389635],\n",
       "       [  15.24565757, -106.38003839]])"
      ]
     },
     "execution_count": 269,
     "metadata": {},
     "output_type": "execute_result"
    }
   ],
   "source": [
    "letter_sample = loadALine(letterChar,minLet, letter=True, unrecognized=True)\n",
    "letter_scaled = linearScaling(letter_sample)\n",
    "stroke = letter_sample['drawing'][1]\n",
    "stroke = np.array(stroke, dtype = float)\n",
    "stroke\n",
    "# plotLetter(letter_sample)\n",
    "# letter_sample['drawing']"
   ]
  },
  {
   "cell_type": "markdown",
   "metadata": {},
   "source": [
    "## Sonntag/Weber Features"
   ]
  },
  {
   "cell_type": "code",
   "execution_count": 46,
   "metadata": {},
   "outputs": [],
   "source": [
    "def a1(stroke): #number of strokes\n",
    "    return len(stroke)"
   ]
  },
  {
   "cell_type": "code",
   "execution_count": 67,
   "metadata": {},
   "outputs": [
    {
     "data": {
      "text/plain": [
       "349.714431248784"
      ]
     },
     "execution_count": 67,
     "metadata": {},
     "output_type": "execute_result"
    }
   ],
   "source": [
    "def a2(stroke):\n",
    "    return getLengthPath(stroke)\n",
    "a2(stroke)"
   ]
  },
  {
   "cell_type": "markdown",
   "metadata": {},
   "source": [
    "### Convex Hull"
   ]
  },
  {
   "cell_type": "code",
   "execution_count": 49,
   "metadata": {},
   "outputs": [
    {
     "data": {
      "text/plain": [
       "[<matplotlib.lines.Line2D at 0x7fd7b5517e50>]"
      ]
     },
     "execution_count": 49,
     "metadata": {},
     "output_type": "execute_result"
    },
    {
     "data": {
      "image/png": "[encoded data removed]",
      "text/plain": [
       "<matplotlib.figure.Figure at 0x7fd7b53eb310>"
      ]
     },
     "metadata": {},
     "output_type": "display_data"
    }
   ],
   "source": [
    "from scipy.spatial import ConvexHull, convex_hull_plot_2d\n",
    "from shapely.geometry import Polygon, LineString\n",
    "\n",
    "def getAllStrokes(letter):\n",
    "    letter_points = []\n",
    "    for each_stroke in letter['drawing']:\n",
    "        for each_point in each_stroke:\n",
    "            letter_points.append(each_point)\n",
    "    points = np.array(letter_points)\n",
    "    return points\n",
    "\n",
    "def GetHull(letter): #Get Convex Hull\n",
    "    points = getAllStrokes(letter)\n",
    "    hull = ConvexHull(points)\n",
    "    return hull\n",
    "\n",
    "# PlotAndGetHull(letter_sample)\n",
    "def PlotHull(letter): #Plot Convex Hull\n",
    "    points = getAllStrokes(letter)\n",
    "    hull = GetHull(letter)\n",
    "    pyplot.plot(points[:,0], points[:,1], 'o')\n",
    "    for simplex in hull.simplices:\n",
    "        pyplot.plot(points[simplex, 0], points[simplex, 1], 'k-')\n",
    "    \n",
    "def a3(letter): #Area of Convex Hull\n",
    "    hull = GetHull(letter)\n",
    "    return hull.volume\n",
    "\n",
    "def a4(letter): #Perimeter of Convex Hull\n",
    "    points = getAllStrokes(letter)\n",
    "    hull = ConvexHull(points)\n",
    "    hull_arr = []\n",
    "    for vertex in hull.vertices:\n",
    "        hull_arr.append(points[vertex])\n",
    "    hull_arr = np.array(hull_arr)\n",
    "    return Polygon(hull_arr).length\n",
    "\n",
    "def a5(letter): #Compactness\n",
    "    return (a4(letter)**2)/a3(letter)\n",
    "\n",
    "def getAxes(letter):\n",
    "    points = getAllStrokes(letter)\n",
    "    hull = GetHull(letter)\n",
    "    hull_arr = []\n",
    "    for vertex in hull.vertices:\n",
    "        hull_arr.append(points[vertex])\n",
    "    hull_arr = np.array(hull_arr)\n",
    "    polygon =  Polygon(hull_arr)\n",
    "    # get the minimum bounding rectangle and zip coordinates into a list of point-tuples\n",
    "    mbr_points = list(zip(*polygon.minimum_rotated_rectangle.exterior.coords.xy))\n",
    "#     print(mbr_points)\n",
    "    # calculate the length of each side of the minimum bounding rectangle\n",
    "    mbr_lengths = [LineString((mbr_points[i], mbr_points[i+1])).length for i in range(len(mbr_points) - 1)]\n",
    "    # get major/minor axis measurements\n",
    "    minor_axis = min(mbr_lengths)\n",
    "    major_axis = max(mbr_lengths)\n",
    "    return major_axis, minor_axis\n",
    "\n",
    "def a6(letter): #Eccentricity\n",
    "    a, b = getAxes(letter)\n",
    "    return np.sqrt(1 - b**2/a**2)\n",
    "\n",
    "def a7(letter): #Principal Axes\n",
    "    a, b = getAxes(letter)\n",
    "    return b/a\n",
    "\n",
    "def a9(letter): #Principal Axes\n",
    "    a, b = getAxes(letter)\n",
    "    A = a3(letter)\n",
    "    return A/(a*b)\n",
    "\n",
    "def a10(stroke, letter): #Closure\n",
    "    return LA.norm(stroke[0] - stroke[-1])/a4(letter)\n",
    "\n",
    "# plotLetter(letter_sample)\n",
    "PlotHull(letter_sample)\n",
    "a6(letter_sample)\n",
    "# [(130.65705982243603, -122.19575691116628), (114.65181500718955, 8.59054301226798), (-0.3512191550686471, -5.483191907526066), (15.654025660177808, -136.26949183096033), (130.65705982243603, -122.19575691116628)]\n",
    "pyplot.plot([759.4048404519311, 809.1428488015647, 444.90420109187505, 395.1661927422415, 759.4048404519311], [735.1485709280937, 1260.585992467813, 1295.064893585963, 769.627472046244, 735.1485709280937])\n",
    "# scaled = linearScaling(letter_sample)\n",
    "# plotLetterScaled(scaled)\n",
    "# pyplot.show()"
   ]
  },
  {
   "cell_type": "code",
   "execution_count": 50,
   "metadata": {},
   "outputs": [],
   "source": [
    "def a8(stroke): #Circular Variance\n",
    "    mu = centroidStroke(stroke)\n",
    "    deviations = [LA.norm(si - mu) for si in stroke]\n",
    "    mu_r = np.average(deviations)\n",
    "    deviations_new = (deviations - mu_r)**2\n",
    "    return np.average(deviations_new)/mu_r**2"
   ]
  },
  {
   "cell_type": "markdown",
   "metadata": {},
   "source": [
    "### Angle between successive vectors"
   ]
  },
  {
   "cell_type": "code",
   "execution_count": 51,
   "metadata": {},
   "outputs": [
    {
     "data": {
      "text/plain": [
       "0.9461122475210325"
      ]
     },
     "execution_count": 51,
     "metadata": {},
     "output_type": "execute_result"
    }
   ],
   "source": [
    "def unit_vector(vector):\n",
    "    \"\"\" Returns the unit vector of the vector.  \"\"\"\n",
    "    return vector / LA.norm(vector)\n",
    "\n",
    "def angle_between(v1, v2):\n",
    "    \"\"\" Returns the angle in radians between vectors 'v1' and 'v2'::\n",
    "\n",
    "            >>> angle_between((1, 0, 0), (0, 1, 0))\n",
    "            1.5707963267948966\n",
    "            >>> angle_between((1, 0, 0), (1, 0, 0))\n",
    "            0.0\n",
    "            >>> angle_between((1, 0, 0), (-1, 0, 0))\n",
    "            3.141592653589793\n",
    "    \"\"\"\n",
    "    v1_u = unit_vector(v1)\n",
    "    v2_u = unit_vector(v2)\n",
    "    return np.arccos(np.clip(np.dot(v1_u, v2_u), -1.0, 1.0))\n",
    "\n",
    "def a11(stroke): #Curvature\n",
    "    sum = 0.0\n",
    "    for i in range(1, len(stroke) - 1):\n",
    "        if(np.isnan(angle_between(stroke[i] - stroke[i - 1], stroke[i + 1] - stroke[i])) == False):\n",
    "            sum += angle_between(stroke[i] - stroke[i - 1], stroke[i + 1] - stroke[i])\n",
    "    return sum\n",
    "\n",
    "def a12(stroke): #Perpendicularity\n",
    "    sum = 0.0\n",
    "    for i in range(1, len(stroke) - 1):\n",
    "        if(np.isnan(angle_between(stroke[i] - stroke[i - 1], stroke[i + 1] - stroke[i])) == False):\n",
    "            sum += np.sin(angle_between(stroke[i] - stroke[i - 1], stroke[i + 1] - stroke[i]))**2\n",
    "    return sum\n",
    "\n",
    "def a13(stroke): #Signed Perpendicularity\n",
    "    sum = 0.0\n",
    "    for i in range(1, len(stroke) - 1):\n",
    "        if(np.isnan(angle_between(stroke[i] - stroke[i - 1], stroke[i + 1] - stroke[i])) == False):\n",
    "            sum += np.sin(angle_between(stroke[i] - stroke[i - 1], stroke[i + 1] - stroke[i]))**3\n",
    "    return sum\n",
    "a13(stroke)    "
   ]
  },
  {
   "cell_type": "markdown",
   "metadata": {},
   "source": [
    "## Rubine Features"
   ]
  },
  {
   "cell_type": "code",
   "execution_count": 52,
   "metadata": {},
   "outputs": [
    {
     "data": {
      "text/plain": [
       "0.18032786885245902"
      ]
     },
     "execution_count": 52,
     "metadata": {},
     "output_type": "execute_result"
    }
   ],
   "source": [
    "def b1(stroke):#Cosine of initial angle\n",
    "    return (stroke[2][0] - stroke[0][0])/(LA.norm(stroke[2] - stroke[0]))\n",
    "b1(stroke)"
   ]
  },
  {
   "cell_type": "code",
   "execution_count": 53,
   "metadata": {},
   "outputs": [
    {
     "data": {
      "text/plain": [
       "0.9836065573770492"
      ]
     },
     "execution_count": 53,
     "metadata": {},
     "output_type": "execute_result"
    }
   ],
   "source": [
    "def b2(stroke):#Sine of initial angle\n",
    "    return (stroke[2][1] - stroke[0][1])/(LA.norm(stroke[2] - stroke[0]))\n",
    "b2(stroke)"
   ]
  },
  {
   "cell_type": "code",
   "execution_count": 54,
   "metadata": {},
   "outputs": [
    {
     "name": "stdout",
     "output_type": "stream",
     "text": [
      "{'xmin': 397, 'ymin': 755, 'ymax': 1276, 'xmax': 800}\n"
     ]
    },
    {
     "data": {
      "text/plain": [
       "658.6729082025463"
      ]
     },
     "execution_count": 54,
     "metadata": {},
     "output_type": "execute_result"
    }
   ],
   "source": [
    "def findMinMax_letter_sample(letter_sample):\n",
    "    letter = letter_sample['drawing']  \n",
    "    xmin = min([row[0] for row in letter[0]])\n",
    "    ymin = min([row[1] for row in letter[0]])\n",
    "    xmax = max([row[0] for row in letter[0]])\n",
    "    ymax = max([row[1] for row in letter[0]])\n",
    "    for i in range(1,len(letter)): # for each stroke\n",
    "        x = [row[0] for row in letter[i]]\n",
    "        y = [row[1] for row in letter[i]]\n",
    "\n",
    "        if min(x) < xmin : xmin = min(x) \n",
    "        if max(x) > xmax : xmax = max(x) \n",
    "        if min(y) < ymin : ymin = min(y) \n",
    "        if max(y) > ymax : ymax = max(y)\n",
    "    return {'xmin':xmin,'xmax':xmax,'ymin':ymin,'ymax':ymax}\n",
    "\n",
    "def b3(letter_sample): #Length of bounding box diagonal for letter\n",
    "    bbox = findMinMax_letter_sample(letter_sample)\n",
    "    print(bbox)\n",
    "    return np.sqrt((bbox['xmax'] - bbox['xmin'])**2 + (bbox['ymax'] - bbox['ymin'])**2)\n",
    "b3(letter_sample)\n",
    "# letter_sample['drawing']"
   ]
  },
  {
   "cell_type": "code",
   "execution_count": 55,
   "metadata": {},
   "outputs": [
    {
     "data": {
      "text/plain": [
       "0.7853981633974483"
      ]
     },
     "execution_count": 55,
     "metadata": {},
     "output_type": "execute_result"
    }
   ],
   "source": [
    "def b4(letter_sample): #Angle of bounding box diagonal for stroke\n",
    "    bbox = findMinMax_letter_sample(letter_sample)\n",
    "    return np.arctan((bbox['ymax'] - bbox['ymin']) / (bbox['xmax'] - bbox['xmin']))\n",
    "b4(letter_sample)\n",
    "# letter_sample['drawing']"
   ]
  },
  {
   "cell_type": "code",
   "execution_count": 56,
   "metadata": {},
   "outputs": [
    {
     "data": {
      "text/plain": [
       "303.3891889965758"
      ]
     },
     "execution_count": 56,
     "metadata": {},
     "output_type": "execute_result"
    }
   ],
   "source": [
    "def b5(stroke): #Distance between first and last point\n",
    "    return LA.norm(stroke[-1] - stroke[0])\n",
    "b5(stroke)"
   ]
  },
  {
   "cell_type": "code",
   "execution_count": 57,
   "metadata": {},
   "outputs": [
    {
     "data": {
      "text/plain": [
       "0.0955867942951893"
      ]
     },
     "execution_count": 57,
     "metadata": {},
     "output_type": "execute_result"
    }
   ],
   "source": [
    "def b6(stroke): # Cosine of the angle between first and last point\n",
    "    return (stroke[-1][0] - stroke[0][0])/b5(stroke)\n",
    "b6(stroke)"
   ]
  },
  {
   "cell_type": "code",
   "execution_count": 58,
   "metadata": {},
   "outputs": [
    {
     "data": {
      "text/plain": [
       "0.9954210992119713"
      ]
     },
     "execution_count": 58,
     "metadata": {},
     "output_type": "execute_result"
    }
   ],
   "source": [
    "def b7(stroke): # Sine of the angle between first and last point\n",
    "    return (stroke[-1][1] - stroke[0][1])/b5(stroke)\n",
    "b7(stroke)"
   ]
  },
  {
   "cell_type": "code",
   "execution_count": 59,
   "metadata": {},
   "outputs": [
    {
     "data": {
      "text/plain": [
       "349.714431248784"
      ]
     },
     "execution_count": 59,
     "metadata": {},
     "output_type": "execute_result"
    }
   ],
   "source": [
    "def b8(stroke): # Total gesture length\n",
    "    diff_arr = np.diff(stroke, axis = 0)\n",
    "    sum_arr = np.sqrt(np.sum(diff_arr**2, axis = 1))\n",
    "#     print(diff_arr)\n",
    "    return np.sum(sum_arr)\n",
    "b8(stroke)"
   ]
  },
  {
   "cell_type": "markdown",
   "metadata": {},
   "source": [
    "### Requires calculating angle at each point"
   ]
  },
  {
   "cell_type": "code",
   "execution_count": 60,
   "metadata": {},
   "outputs": [
    {
     "data": {
      "text/plain": [
       "5.543730208789693"
      ]
     },
     "execution_count": 60,
     "metadata": {},
     "output_type": "execute_result"
    }
   ],
   "source": [
    "def getThetas(stroke): \n",
    "    diff_arr = np.diff(stroke, axis = 0)\n",
    "    theta = []\n",
    "    for i in range(1, len(diff_arr)):\n",
    "        num = diff_arr[i][0]*diff_arr[i - 1][1] - diff_arr[i - 1][0]*diff_arr[i][1]\n",
    "        den = diff_arr[i][0]*diff_arr[i - 1][0] + diff_arr[i][1]*diff_arr[i - 1][1]\n",
    "#         print(den)\n",
    "        if(den != 0):\n",
    "            theta.append(np.arctan(num/den))\n",
    "    theta_arr = np.array(theta)\n",
    "    return theta_arr\n",
    "\n",
    "def b9(stroke): #Total angle traversed\n",
    "    theta_arr = getThetas(stroke)\n",
    "    return np.sum(theta_arr)\n",
    "\n",
    "def b10(stroke): #Sum of the absolute value of the angle at each point\n",
    "    theta_arr = getThetas(stroke)\n",
    "    return np.sum(np.abs(theta_arr))\n",
    "\n",
    "def b11(stroke): #Sum of the squared value of the angle at each point\n",
    "    theta_arr = getThetas(stroke)\n",
    "    return np.sum(theta_arr**2)\n",
    "b11(stroke)"
   ]
  },
  {
   "cell_type": "markdown",
   "metadata": {},
   "source": [
    "## Features by Willems and Niels"
   ]
  },
  {
   "cell_type": "code",
   "execution_count": 65,
   "metadata": {},
   "outputs": [
    {
     "data": {
      "text/plain": [
       "349.714431248784"
      ]
     },
     "execution_count": 65,
     "metadata": {},
     "output_type": "execute_result"
    }
   ],
   "source": [
    "def c1(stroke): #Length of the gesture\n",
    "    diff_norm_sum = np.sum(LA.norm(np.diff(stroke, axis = 0), axis = 1))\n",
    "    return diff_norm_sum\n",
    "    \n",
    "c1(stroke)"
   ]
  },
  {
   "cell_type": "code",
   "execution_count": 66,
   "metadata": {},
   "outputs": [
    {
     "data": {
      "text/plain": [
       "163602.0"
      ]
     },
     "execution_count": 66,
     "metadata": {},
     "output_type": "execute_result"
    }
   ],
   "source": [
    "def c2(letter): #Area of convex hull\n",
    "    return a3(letter)\n",
    "c2(letter_sample)"
   ]
  },
  {
   "cell_type": "code",
   "execution_count": null,
   "metadata": {},
   "outputs": [],
   "source": [
    "def c3(letter): # Compactness\n",
    "    return a5(letter)"
   ]
  },
  {
   "cell_type": "markdown",
   "metadata": {},
   "source": [
    "### Coordinate Axes"
   ]
  },
  {
   "cell_type": "code",
   "execution_count": 181,
   "metadata": {},
   "outputs": [
    {
     "data": {
      "text/plain": [
       "0.8641882852542606"
      ]
     },
     "execution_count": 181,
     "metadata": {},
     "output_type": "execute_result"
    }
   ],
   "source": [
    "def getCoAxes(stroke): # Ratio between co-ordinate axes\n",
    "    a = stroke[0][0]\n",
    "    b = stroke[0][1]\n",
    "    for j in range(len(stroke)):\n",
    "        for i in range(j + 1):\n",
    "            if(np.abs(stroke[i][0] - stroke[j][0]) > a):\n",
    "                a = np.abs(stroke[i][0] - stroke[j][0])\n",
    "            if(np.abs(stroke[i][1] - stroke[j][1]) > b):\n",
    "                b = np.abs(stroke[i][1] - stroke[j][1])\n",
    "    if(a > b):\n",
    "        a_prime = a\n",
    "        b_prime = b\n",
    "    else:\n",
    "        a_prime = b\n",
    "        b_prime = a\n",
    "    return float(a_prime), float(b_prime)\n",
    "\n",
    "def getCoAxes_ab(stroke):\n",
    "    a = stroke[0][0]\n",
    "    b = stroke[0][1]\n",
    "    for j in range(len(stroke)):\n",
    "        for i in range(j):\n",
    "            if(np.abs(stroke[i][0] - stroke[j][0]) > a):\n",
    "                a = np.abs(stroke[i][0] - stroke[j][0])\n",
    "            if(np.abs(stroke[i][1] - stroke[j][1]) > b):\n",
    "                b = np.abs(stroke[i][1] - stroke[j][1])\n",
    "    return a, b\n",
    "\n",
    "def c4(stroke):\n",
    "    a_prime, b_prime = getCoAxes(stroke)\n",
    "    return np.sqrt(1 - float(b_prime)**2/a_prime**2)\n",
    "\n",
    "def c5(stroke):\n",
    "    a_prime, b_prime = getCoAxes(stroke)\n",
    "    return b_prime/a_prime\n",
    "        \n",
    "c4(stroke)\n",
    "\n",
    "def c35(stroke): # Initial horizontal offset\n",
    "    a, b = getCoAxes_ab(stroke)\n",
    "    return (stroke[0][0] - np.min(stroke[:,0]))/float(a)\n",
    "\n",
    "def c36(stroke): # Final horizontal offset\n",
    "    a, b = getCoAxes_ab(stroke)\n",
    "    return (stroke[-1][0] - np.min(stroke[:,0]))/float(a)\n",
    "c36(stroke)\n",
    "\n",
    "def c37(stroke): # Initial vertical offset\n",
    "    a, b = getCoAxes_ab(stroke)\n",
    "    return (stroke[0][1] - np.min(stroke[:,1]))/float(b)\n",
    "c37(stroke)\n",
    "\n",
    "def c38(stroke): # Final vertical offset\n",
    "    a, b = getCoAxes_ab(stroke)\n",
    "    return (stroke[-1][1] - np.min(stroke[:,1]))/float(b)\n",
    "c38(stroke)"
   ]
  },
  {
   "cell_type": "code",
   "execution_count": 74,
   "metadata": {},
   "outputs": [
    {
     "data": {
      "text/plain": [
       "1.1526924621322978"
      ]
     },
     "execution_count": 74,
     "metadata": {},
     "output_type": "execute_result"
    }
   ],
   "source": [
    "def c6(stroke):\n",
    "    den = LA.norm(stroke[-1] - stroke[0])\n",
    "    return c1(stroke)/den\n",
    "c6(stroke)"
   ]
  },
  {
   "cell_type": "code",
   "execution_count": 82,
   "metadata": {},
   "outputs": [
    {
     "name": "stdout",
     "output_type": "stream",
     "text": [
      "[430.4, 990.6]\n"
     ]
    },
    {
     "data": {
      "text/plain": [
       "0.2585948323359016"
      ]
     },
     "execution_count": 82,
     "metadata": {},
     "output_type": "execute_result"
    }
   ],
   "source": [
    "def c7(stroke): #Circular Variance\n",
    "    return a8(stroke)\n",
    "c7(stroke)"
   ]
  },
  {
   "cell_type": "code",
   "execution_count": 83,
   "metadata": {},
   "outputs": [
    {
     "data": {
      "text/plain": [
       "2.5455156412227335"
      ]
     },
     "execution_count": 83,
     "metadata": {},
     "output_type": "execute_result"
    }
   ],
   "source": [
    "def c8(stroke): # Curvature\n",
    "    return a11(stroke)\n",
    "c8(stroke)"
   ]
  },
  {
   "cell_type": "code",
   "execution_count": 84,
   "metadata": {},
   "outputs": [
    {
     "data": {
      "text/plain": [
       "0.2314105128384303"
      ]
     },
     "execution_count": 84,
     "metadata": {},
     "output_type": "execute_result"
    }
   ],
   "source": [
    "def c9(stroke): # Average Curvature\n",
    "    sum, count = 0.0, 0\n",
    "    for i in range(1, len(stroke) - 1):\n",
    "        if(np.isnan(angle_between(stroke[i] - stroke[i - 1], stroke[i + 1] - stroke[i])) == False):\n",
    "            count = count + 1\n",
    "            sum += angle_between(stroke[i] - stroke[i - 1], stroke[i + 1] - stroke[i])\n",
    "    return sum/count\n",
    "c9(stroke)"
   ]
  },
  {
   "cell_type": "code",
   "execution_count": 85,
   "metadata": {},
   "outputs": [
    {
     "data": {
      "text/plain": [
       "0.06874139192612218"
      ]
     },
     "execution_count": 85,
     "metadata": {},
     "output_type": "execute_result"
    }
   ],
   "source": [
    "def c10(stroke): # Standard deviation in curvature\n",
    "    c9_val = c9(stroke)\n",
    "    sum, count = 0.0, 0\n",
    "    for i in range(1, len(stroke) - 1):\n",
    "        if(np.isnan(angle_between(stroke[i] - stroke[i - 1], stroke[i + 1] - stroke[i])) == False):\n",
    "            count = count + 1\n",
    "            sum += (angle_between(stroke[i] - stroke[i - 1], stroke[i + 1] - stroke[i]) - c9_val)**2\n",
    "    return sum/count\n",
    "c10(stroke)"
   ]
  },
  {
   "cell_type": "code",
   "execution_count": 99,
   "metadata": {},
   "outputs": [
    {
     "data": {
      "text/plain": [
       "0.8178598303902296"
      ]
     },
     "execution_count": 99,
     "metadata": {},
     "output_type": "execute_result"
    }
   ],
   "source": [
    "def c12(stroke): # Average direction\n",
    "    diff = np.diff(stroke, axis = 0)\n",
    "    sum, count = 0.0, 0\n",
    "    for i in range(len(diff)):\n",
    "        if(diff[i][0] != 0):\n",
    "            count += 1\n",
    "            sum += np.arctan(diff[i][1]/diff[i][0])\n",
    "    return sum/count\n",
    "c12(stroke)"
   ]
  },
  {
   "cell_type": "code",
   "execution_count": 106,
   "metadata": {},
   "outputs": [
    {
     "data": {
      "text/plain": [
       "1.1633832598484886"
      ]
     },
     "execution_count": 106,
     "metadata": {},
     "output_type": "execute_result"
    }
   ],
   "source": [
    "def c13(stroke):\n",
    "    return a12(stroke)\n",
    "c13(stroke)"
   ]
  },
  {
   "cell_type": "code",
   "execution_count": 108,
   "metadata": {},
   "outputs": [
    {
     "data": {
      "text/plain": [
       "0.09281684857881821"
      ]
     },
     "execution_count": 108,
     "metadata": {},
     "output_type": "execute_result"
    }
   ],
   "source": [
    "def c14(stroke): #Perpendicularity\n",
    "    sum = 0.0\n",
    "    count = 0\n",
    "    for i in range(1, len(stroke) - 1):\n",
    "        if(np.isnan(angle_between(stroke[i] - stroke[i - 1], stroke[i + 1] - stroke[i])) == False):\n",
    "            count += 1\n",
    "            sum += np.sin(angle_between(stroke[i] - stroke[i - 1], stroke[i + 1] - stroke[i]))**2\n",
    "    return sum/count\n",
    "c14(stroke)"
   ]
  },
  {
   "cell_type": "code",
   "execution_count": 109,
   "metadata": {},
   "outputs": [],
   "source": [
    "def c15(stroke): #Standard Deviation in Perpendicularity\n",
    "    sum = 0.0\n",
    "    count = 0\n",
    "    c14_val = c14(stroke)\n",
    "    for i in range(1, len(stroke) - 1):\n",
    "        if(np.isnan(angle_between(stroke[i] - stroke[i - 1], stroke[i + 1] - stroke[i])) == False):\n",
    "            count += 1\n",
    "            sum += (np.sin(angle_between(stroke[i] - stroke[i - 1], stroke[i + 1] - stroke[i]))**2 - c14_val)**2\n",
    "    return sum/count\n",
    "c15(stroke)"
   ]
  },
  {
   "cell_type": "markdown",
   "metadata": {},
   "source": [
    "### Using the Principal Axes"
   ]
  },
  {
   "cell_type": "code",
   "execution_count": 187,
   "metadata": {},
   "outputs": [
    {
     "data": {
      "text/plain": [
       "0.38276299112801015"
      ]
     },
     "execution_count": 187,
     "metadata": {},
     "output_type": "execute_result"
    }
   ],
   "source": [
    "from sklearn.decomposition import PCA\n",
    "\n",
    "def getAxesPCA(letter):\n",
    "    points = getAllStrokes(letter)\n",
    "    pca = PCA(n_components=2)\n",
    "    return pca.fit(points).components_\n",
    "\n",
    "def getc(letter): # Get center of bounding box\n",
    "    c = np.zeros(2)\n",
    "    offset, _, minmax = getBondingBox(letter)\n",
    "    c[0] = minmax[0] + offset[0]\n",
    "    c[1] = minmax[1] + offset[1]\n",
    "    return c\n",
    "\n",
    "def c16(letter, stroke): # Centroid offset\n",
    "#     p1, p2 = getAxes(letter)\n",
    "    p1, p2 = getAxesPCA(letter)\n",
    "    mu = centroidStroke(stroke)\n",
    "    c = getc(letter)\n",
    "#     print(p2)\n",
    "    return abs(np.dot(p2,mu))\n",
    "\n",
    "def c17(letter, stroke): # Length of first principal axis\n",
    "    p1, p2 = getAxesPCA(letter)\n",
    "    mu = centroidStroke(stroke)\n",
    "    c = getc(letter)\n",
    "    alpha = 2*np.max(np.matmul(stroke - c, p2))\n",
    "    return alpha\n",
    "c17(letter_sample, stroke)\n",
    "\n",
    "def c18(letter, stroke): # Sine orientation of principal axis\n",
    "    p1, p2 = getAxesPCA(letter)\n",
    "    return p1[1]\n",
    "\n",
    "def c19(letter, stroke): # Cosine orientation of principal axis\n",
    "    p1, p2 = getAxesPCA(letter)\n",
    "    return p1[0]\n",
    "\n",
    "def c20(letter, stroke): # Rectangularity\n",
    "    p1, p2 = getAxesPCA(letter)\n",
    "    mu = centroidStroke(stroke)\n",
    "    c = getc(letter)\n",
    "    beta = 2*np.max(np.matmul(stroke - c, p1))\n",
    "    alpha = 2*np.max(np.matmul(stroke - c, p2))\n",
    "    A = a3(letter)\n",
    "    return A/(alpha*beta)\n",
    "c20(letter_sample, stroke)"
   ]
  },
  {
   "cell_type": "markdown",
   "metadata": {},
   "source": [
    "### Cups"
   ]
  },
  {
   "cell_type": "code",
   "execution_count": 284,
   "metadata": {},
   "outputs": [
    {
     "data": {
      "text/plain": [
       "1"
      ]
     },
     "execution_count": 284,
     "metadata": {},
     "output_type": "execute_result"
    },
    {
     "data": {
      "image/png": "[encoded data removed]",
      "text/plain": [
       "<matplotlib.figure.Figure at 0x7fd7bd467990>"
      ]
     },
     "metadata": {},
     "output_type": "display_data"
    }
   ],
   "source": [
    "from random import randint\n",
    "\n",
    "def cmap_ints():\n",
    "    i = randint(1, 10000)\n",
    "    return \"#\"+hex(((int(i)+1)*2396745)%(256**3))[2:].rjust(6,\"0\")\n",
    "\n",
    "def c32(stroke): # Number of cups\n",
    "    t_w = 15\n",
    "    t_a = 30\n",
    "    n_cups = 0\n",
    "#     pos = 0\n",
    "    N = len(stroke)\n",
    "    pyplot.subplot(1,2,1)\n",
    "    pyplot.xlim(0,140)\n",
    "#     for i in range(N - t_w):\n",
    "    i = 0\n",
    "    while(i + t_w < N):\n",
    "#         print(math.degrees(angle_between(stroke[i], stroke[i + t_w])))\n",
    "#         if(math.degrees(angle_between(stroke[i], stroke[i + t_w])) > t_a and (pos == 0 or pos < i - t_w)):\n",
    "        if(math.degrees(angle_between(stroke[i], stroke[i + t_w])) > t_a):\n",
    "            pyplot.scatter([stroke[i, 0], stroke[i + t_w,0]], [stroke[i, 1], stroke[i + t_w,1]], color = cmap_ints())\n",
    "#             pos = i\n",
    "            i += t_w + 1\n",
    "            n_cups += 1\n",
    "        else:\n",
    "            i += 1\n",
    "    pyplot.subplot(1,2,2)\n",
    "    pyplot.scatter(stroke[:,0], stroke[:,1], color = 'b', marker = 'o')\n",
    "    return n_cups\n",
    "c32(stroke)\n",
    "\n",
    "def c33(stroke): # Offset of the First Cup\n",
    "    t_w = 15\n",
    "    t_a = 30\n",
    "    N = len(stroke)\n",
    "    for i in range(N - t_w):\n",
    "        if(math.degrees(angle_between(stroke[i], stroke[i + t_w])) > t_a):\n",
    "            return (i + 1)/N\n",
    "c33(stroke)\n",
    "\n",
    "def c34(stroke): # Offset of the Last Cup\n",
    "    t_w = 15\n",
    "    t_a = 45\n",
    "    N = len(stroke)\n",
    "    for i in range(N - t_w - 1, -1, -1):\n",
    "        if(math.degrees(angle_between(stroke[i], stroke[i + t_w])) > t_a):\n",
    "            return (i + 1 + t_w)/N\n",
    "    return -1\n",
    "c34(stroke)"
   ]
  },
  {
   "cell_type": "markdown",
   "metadata": {},
   "source": [
    "### Straight Lines"
   ]
  },
  {
   "cell_type": "code",
   "execution_count": 324,
   "metadata": {},
   "outputs": [
    {
     "data": {
      "text/plain": [
       "0.23723474635923092"
      ]
     },
     "execution_count": 324,
     "metadata": {},
     "output_type": "execute_result"
    },
    {
     "data": {
      "image/png": "[encoded data removed]",
      "text/plain": [
       "<matplotlib.figure.Figure at 0x7fd7bd8d9310>"
      ]
     },
     "metadata": {},
     "output_type": "display_data"
    }
   ],
   "source": [
    "def d_func(stroke, k1, k2, i, o):\n",
    "    v = np.matmul(np.array([(0, -1), (1, 0)]), stroke[k2] - stroke[k1])\n",
    "    return np.abs(np.dot(v, stroke[i] - stroke[o]))/LA.norm(v)\n",
    "\n",
    "def isStraightLine(stroke, i, j):\n",
    "    t_d = 10\n",
    "    k1 = i + (j - i)/3\n",
    "    k2 = i + (2*(j - i))/3\n",
    "    for o in range(i,j + 1):\n",
    "        if(d_func(stroke, k1, k2, i, o) > t_d):\n",
    "            return False\n",
    "    return True\n",
    "            \n",
    "\n",
    "def straight_lines(stroke): #Get the straight lines\n",
    "    L = []\n",
    "    N = len(stroke)\n",
    "    t_l = 80\n",
    "    pyplot.subplot(1,2,1)\n",
    "    pyplot.xlim(0,140)\n",
    "    pyplot.ylim(-140,20)\n",
    "    for i in range(N - 4):\n",
    "        for j in range(N - 1, i + 2, -1):\n",
    "            if(isStraightLine(stroke, i, j)):\n",
    "                if(LA.norm(stroke[i] - stroke[j - 1]) > t_l):\n",
    "                    L.append(stroke[i] - stroke[j])\n",
    "                    pyplot.plot([stroke[i, 0], stroke[j,0]], [stroke[i, 1], stroke[j,1]], color = cmap_ints())\n",
    "                i = j\n",
    "                break;\n",
    "    pyplot.subplot(1,2,2)\n",
    "    pyplot.scatter(stroke[:,0], stroke[:,1])\n",
    "    return L\n",
    "\n",
    "def c39(stroke): # Number of straight lines\n",
    "    return len(straight_lines(stroke))\n",
    "\n",
    "def c40(stroke): # Average length of straight lines\n",
    "    L = straight_lines(stroke)\n",
    "    L = np.array(L)\n",
    "    norm_arr = LA.norm(L, axis = 1)\n",
    "#     print(norm_arr, L)\n",
    "    return np.average(norm_arr)        \n",
    "c40(stroke)\n",
    "\n",
    "def c41(stroke): # Standard deviation of straight line length\n",
    "    c40_val = c40(stroke)\n",
    "    L = straight_lines(stroke)\n",
    "    L = np.array(L)\n",
    "    norm_arr = LA.norm(L, axis = 1)\n",
    "    sd_arr = (norm_arr - c40_val)**2\n",
    "#     print(sd_arr)\n",
    "    return np.sqrt(np.average(sd_arr))\n",
    "\n",
    "def c42(stroke): # Straight line ratio\n",
    "    L = straight_lines(stroke)\n",
    "    L = np.array(L)\n",
    "    norm_arr = LA.norm(L, axis = 1)\n",
    "#     print(norm_arr, L)\n",
    "    return np.sum(norm_arr)/c1(stroke)  \n",
    "c42(stroke)\n",
    "\n",
    "def c43(stroke): # Largest straight line ratio\n",
    "    L = straight_lines(stroke)\n",
    "    L = np.array(L)\n",
    "    norm_arr = LA.norm(L, axis = 1)\n",
    "#     print(norm_arr, L)\n",
    "    return np.max(norm_arr)/c1(stroke)\n",
    "c43(stroke)"
   ]
  },
  {
   "cell_type": "markdown",
   "metadata": {},
   "source": [
    "### 48, 49, 52, 53, 54 done previously"
   ]
  },
  {
   "cell_type": "code",
   "execution_count": null,
   "metadata": {},
   "outputs": [],
   "source": [
    "def c50(stroke): #Length of bounding box diagonal for stroke\n",
    "    a, b = getCoAxes_ab(stroke)\n",
    "    return LA.norm([a,  b])\n",
    "c50(stroke)"
   ]
  },
  {
   "cell_type": "code",
   "execution_count": 330,
   "metadata": {},
   "outputs": [
    {
     "data": {
      "text/plain": [
       "0.8121433769211204"
      ]
     },
     "execution_count": 330,
     "metadata": {},
     "output_type": "execute_result"
    }
   ],
   "source": [
    "def c51(stroke): #Angle of the bounding box diagonal for stroke\n",
    "    a, b = getCoAxes_ab(stroke)\n",
    "    return np.arctan(b/a)\n",
    "c51(stroke)"
   ]
  },
  {
   "cell_type": "code",
   "execution_count": 331,
   "metadata": {},
   "outputs": [
    {
     "data": {
      "text/plain": [
       "3.9375155919694595"
      ]
     },
     "execution_count": 331,
     "metadata": {},
     "output_type": "execute_result"
    }
   ],
   "source": [
    "def c56(stroke): #Squared Curvature\n",
    "    sum = 0.0\n",
    "    for i in range(1, len(stroke) - 1):\n",
    "        if(np.isnan(angle_between(stroke[i] - stroke[i - 1], stroke[i + 1] - stroke[i])) == False):\n",
    "            sum += angle_between(stroke[i] - stroke[i - 1], stroke[i + 1] - stroke[i])**2\n",
    "    return sum\n",
    "c56(stroke)"
   ]
  },
  {
   "cell_type": "code",
   "execution_count": 337,
   "metadata": {},
   "outputs": [
    {
     "data": {
      "text/plain": [
       "13.495108821908048"
      ]
     },
     "execution_count": 337,
     "metadata": {},
     "output_type": "execute_result"
    }
   ],
   "source": [
    "def c57(stroke, k): #Macro Perpendicularity\n",
    "    sum = 0.0\n",
    "    for i in range(k, len(stroke) - k):\n",
    "        if(np.isnan(angle_between(stroke[i] - stroke[i - k], stroke[i + k] - stroke[i])) == False):\n",
    "            sum += np.sin(angle_between(stroke[i] - stroke[i - k], stroke[i + k] - stroke[i]))**2\n",
    "    return sum\n",
    "c57(stroke, 3)"
   ]
  },
  {
   "cell_type": "code",
   "execution_count": 340,
   "metadata": {},
   "outputs": [
    {
     "data": {
      "text/plain": [
       "0.3373777205477012"
      ]
     },
     "execution_count": 340,
     "metadata": {},
     "output_type": "execute_result"
    }
   ],
   "source": [
    "def c58(stroke, k): #Average Macro Perpendicularity\n",
    "    c57_val = c57(stroke, k)\n",
    "    return c57_val/(len(stroke) - 2*k)\n",
    "c58(stroke, 3)"
   ]
  },
  {
   "cell_type": "code",
   "execution_count": null,
   "metadata": {},
   "outputs": [],
   "source": [
    "def c59(stroke, k): #Standard Deviation in Macro Perpendicularity\n",
    "    sum = 0.0\n",
    "    c58_val = c58(stroke, k)\n",
    "    for i in range(k, len(stroke) - k):\n",
    "        if(np.isnan(angle_between(stroke[i] - stroke[i - k], stroke[i + k] - stroke[i])) == False):\n",
    "            sum += (np.sin(angle_between(stroke[i] - stroke[i - k], stroke[i + k] - stroke[i]))**2 - c58_val)**2\n",
    "    return np.sqrt(sum/(len(stroke) - 2*k))\n",
    "c58(stroke, 3)"
   ]
  },
  {
   "cell_type": "code",
   "execution_count": 342,
   "metadata": {},
   "outputs": [
    {
     "data": {
      "text/plain": [
       "1.0949521278897705"
      ]
     },
     "execution_count": 342,
     "metadata": {},
     "output_type": "execute_result"
    }
   ],
   "source": [
    "def c60(letter, stroke): # Ratio of Principal A\n",
    "    p1, p2 = getAxesPCA(letter)\n",
    "    c = getc(letter)\n",
    "    beta = 2*np.max(np.matmul(stroke - c, p1))\n",
    "    alpha = 2*np.max(np.matmul(stroke - c, p2))\n",
    "    return beta/alpha\n",
    "c60(letter_sample, stroke)"
   ]
  },
  {
   "cell_type": "code",
   "execution_count": null,
   "metadata": {},
   "outputs": [],
   "source": [
    "def c61(stroke): # Average Centroidal Radius\n",
    "    mu = centroidStroke(stroke)\n",
    "    deviations = [LA.norm(si - mu) for si in stroke]\n",
    "    mu_r = np.average(deviations)\n",
    "    return mu_r"
   ]
  },
  {
   "cell_type": "code",
   "execution_count": null,
   "metadata": {},
   "outputs": [],
   "source": [
    "def c62(stroke): # 69 Standard deviation of the centroidal radius\n",
    "    return np.sqrt(a8(stroke))"
   ]
  },
  {
   "cell_type": "code",
   "execution_count": null,
   "metadata": {},
   "outputs": [],
   "source": [
    "## INCOMPLETE ##\n",
    "def c63(stroke, num): # Chain codes\n",
    "    s = num/2\n",
    "    shi_s = angle_between(stroke[s] - stroke[s - 1], stroke[s + 1] - stroke[s])\n",
    "    if(np.isnan(shi_s) == False):\n",
    "        if(0 <= shi_s and shi_s < math.pi/4):\n",
    "            C_s = 1\n",
    "        elif(math.pi/4 <= shi_s and shi_s < math.pi/2):\n",
    "            C_s = 2\n",
    "        elif(math.pi/2 <= shi_s and shi_s < 3*math.pi/4):\n",
    "            C_s = 3\n",
    "        elif(3*math.pi/4 <= shi_s and shi_s < math.pi):\n",
    "            C_s = 4\n",
    "        elif(math.pi <= shi_s and shi_s < 5*math.pi/4):\n",
    "            C_s = 5\n",
    "        elif(5*math.pi/4 <= shi_s and shi_s < 3*math.pi/2):\n",
    "            C_s = 6\n",
    "        elif(3*math.pi/2<= shi_s and shi_s < 7*math.pi/4):\n",
    "            C_s = 7\n",
    "        elif(7*th.pi/4 <= shi_s and shi_s < 2*math.pi):\n",
    "            C_s = 8\n",
    "        shi_Cs = (C_s - 0.5)*math.pi/4\n",
    "        return np.sin(shi_Cs), np.cos(shi_Cs)\n"
   ]
  },
  {
   "cell_type": "code",
   "execution_count": 345,
   "metadata": {},
   "outputs": [
    {
     "data": {
      "text/plain": [
       "259.36710578431126"
      ]
     },
     "execution_count": 345,
     "metadata": {},
     "output_type": "execute_result"
    }
   ],
   "source": [
    "def c64(letter): # Average Stroke Length\n",
    "    lengths_arr = []\n",
    "    for each_stroke in letter['drawing']:\n",
    "        lengths_arr.append(c1(each_stroke))\n",
    "    return np.average(np.array(lengths_arr))\n",
    "c64(letter_sample)"
   ]
  },
  {
   "cell_type": "code",
   "execution_count": 346,
   "metadata": {},
   "outputs": [
    {
     "data": {
      "text/plain": [
       "171.3071485157214"
      ]
     },
     "execution_count": 346,
     "metadata": {},
     "output_type": "execute_result"
    }
   ],
   "source": [
    "def c65(letter): #Standard Deviation in Stroke Length\n",
    "    lengths_arr = []\n",
    "    c64_val = c64(letter)\n",
    "    for each_stroke in letter['drawing']:\n",
    "        lengths_arr.append((c1(each_stroke) - c64_val)**2)\n",
    "    return np.sqrt(np.average(np.array(lengths_arr)))\n",
    "c65(letter_sample)"
   ]
  },
  {
   "cell_type": "markdown",
   "metadata": {},
   "source": [
    "### Stroke Direction"
   ]
  },
  {
   "cell_type": "code",
   "execution_count": 356,
   "metadata": {},
   "outputs": [
    {
     "data": {
      "text/plain": [
       "0.18321301961420977"
      ]
     },
     "execution_count": 356,
     "metadata": {},
     "output_type": "execute_result"
    }
   ],
   "source": [
    "def phi(stroke):\n",
    "    diff = np.diff(stroke, axis=0)\n",
    "    angle_arr = []\n",
    "    for point in diff:\n",
    "        if(np.isnan(np.arctan(point[1]/point[0])) == False):\n",
    "            angle_arr.append(np.arctan(point[1]/point[0]))\n",
    "    return np.average(np.array(angle_arr))\n",
    "phi(stroke)\n",
    "\n",
    "def c66(letter): # Average stroke direction\n",
    "    sum_arr = []\n",
    "    for each_stroke in letter['drawing']:\n",
    "        if(np.isnan(phi(each_stroke)) == False):\n",
    "            sum_arr.append(phi(each_stroke))\n",
    "    return np.average(np.array(sum_arr))\n",
    "c66(letter_sample)\n",
    "\n",
    "def c67(letter): # Standard deviation in stroke direction\n",
    "    sum_arr = []\n",
    "    c66_val = c66(letter)\n",
    "    for each_stroke in letter['drawing']:\n",
    "        if(np.isnan(phi(each_stroke)) == False):\n",
    "            sum_arr.append((phi(each_stroke) - c66_val)**2)\n",
    "    return np.average(np.array(sum_arr))\n",
    "c67(letter_sample)"
   ]
  },
  {
   "cell_type": "code",
   "execution_count": 228,
   "metadata": {},
   "outputs": [
    {
     "data": {
      "text/plain": [
       "153.434948822922"
      ]
     },
     "execution_count": 228,
     "metadata": {},
     "output_type": "execute_result"
    }
   ],
   "source": [
    "math.degrees(arccos(np.array([0, 1]), np.array([1, -2])))"
   ]
  },
  {
   "cell_type": "code",
   "execution_count": 352,
   "metadata": {},
   "outputs": [
    {
     "name": "stderr",
     "output_type": "stream",
     "text": [
      "/usr/local/lib/python2.7/dist-packages/numpy/lib/function_base.py:392: RuntimeWarning: Mean of empty slice.\n",
      "  avg = a.mean(axis)\n"
     ]
    },
    {
     "data": {
      "text/plain": [
       "nan"
      ]
     },
     "execution_count": 352,
     "metadata": {},
     "output_type": "execute_result"
    }
   ],
   "source": [
    "# arr1 = np.array([(1, 2), (3, 4)])\n",
    "# arr2 = np.array([(5, 6), (7, 8)])\n",
    "# arr1[0] - arr2[-1]\n",
    "# arr = np.array([2, 3, 4])\n",
    "# (arr - 1)**2\n",
    "# stroke\n",
    "# np.average(stroke, axis = 0)\n",
    "# arr = np.array([(1, 0), (0, 1)], axis = 0)\n",
    "# np.max(np.array([ -0.28762178,  0.95774407]))\n",
    "# stroke \n",
    "# pyplot.scatter(stroke[:,0], stroke[:,1])\n",
    "# stroke\n",
    "# letter_sample['drawing'][0], letter_sample['drawing'][1]\n",
    "angle_arr = []\n",
    "np.average(np.array(angle_arr))"
   ]
  },
  {
   "cell_type": "markdown",
   "metadata": {},
   "source": [
    "# TO DO\n",
    "- Implement bounding box for stroke\n",
    "- Ask which bounding box method is better (PCA or Convex Hull)\n",
    "- arccos always between (0, pi). \n",
    "- Connected Components"
   ]
  }
 ],
 "metadata": {
  "accelerator": "GPU",
  "colab": {
   "collapsed_sections": [],
   "name": "StrokeFEatures",
   "provenance": [],
   "version": "0.3.2"
  },
  "kernelspec": {
   "display_name": "Python 2",
   "language": "python",
   "name": "python2"
  },
  "language_info": {
   "codemirror_mode": {
    "name": "ipython",
    "version": 2
   },
   "file_extension": ".py",
   "mimetype": "text/x-python",
   "name": "python",
   "nbconvert_exporter": "python",
   "pygments_lexer": "ipython2",
   "version": "2.7.12"
  }
 },
 "nbformat": 4,
 "nbformat_minor": 2
}
