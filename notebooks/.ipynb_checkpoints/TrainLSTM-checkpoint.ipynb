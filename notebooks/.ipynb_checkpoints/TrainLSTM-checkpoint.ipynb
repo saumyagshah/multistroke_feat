{
 "cells": [
  {
   "cell_type": "code",
   "execution_count": 1,
   "metadata": {
    "colab": {
     "base_uri": "https://localhost:8080/",
     "height": 35
    },
    "colab_type": "code",
    "executionInfo": {
     "elapsed": 3648,
     "status": "ok",
     "timestamp": 1552663590104,
     "user": {
      "displayName": "Wafa Johal",
      "photoUrl": "https://lh6.googleusercontent.com/-dSe4vNhtGJo/AAAAAAAAAAI/AAAAAAAAIHU/HpRPL_mjkKo/s64/photo.jpg",
      "userId": "02628719330545126296"
     },
     "user_tz": -60
    },
    "id": "5ovvF3nc9R3o",
    "outputId": "f37934b8-ce70-4aa7-e183-4350850dc845"
   },
   "outputs": [
    {
     "data": {
      "text/plain": [
       "('1.13.1', True, False)"
      ]
     },
     "execution_count": 1,
     "metadata": {
      "tags": []
     },
     "output_type": "execute_result"
    }
   ],
   "source": [
    "\n",
    "\n",
    "import json, os\n",
    "import numpy as np\n",
    "from matplotlib import pyplot as plt\n",
    "import tensorflow as tf\n",
    "\n",
    "# As of TensorFlow 1.12, Eager mode still needs to be activated explicitly.\n",
    "# Expect this to change with TensorFlow 2.0\n",
    "tf.enable_eager_execution()\n",
    "\n",
    "# version, GPU?, TPU?\n",
    "tf.__version__, tf.test.is_gpu_available() and tf.test.is_built_with_cuda(), 'COLAB_TPU_ADDR' in os.environ\n",
    "\n"
   ]
  },
  {
   "cell_type": "markdown",
   "metadata": {
    "colab_type": "text",
    "id": "s7Y4mSE98rdi"
   },
   "source": [
    "# 1. Data Preparation"
   ]
  },
  {
   "cell_type": "code",
   "execution_count": 0,
   "metadata": {
    "colab": {},
    "colab_type": "code",
    "id": "35BgEHek9B0f"
   },
   "outputs": [],
   "source": [
    "## Load data from Drive (Colab only).\n",
    "data_path = '/content/gdrive/My Drive/Colab Notebooks/copainter_data/alphabet_stroke'"
   ]
  },
  {
   "cell_type": "code",
   "execution_count": 8,
   "metadata": {
    "colab": {
     "base_uri": "https://localhost:8080/",
     "height": 641
    },
    "colab_type": "code",
    "executionInfo": {
     "elapsed": 3577,
     "status": "ok",
     "timestamp": 1552663704907,
     "user": {
      "displayName": "Wafa Johal",
      "photoUrl": "https://lh6.googleusercontent.com/-dSe4vNhtGJo/AAAAAAAAAAI/AAAAAAAAIHU/HpRPL_mjkKo/s64/photo.jpg",
      "userId": "02628719330545126296"
     },
     "user_tz": -60
    },
    "id": "rJ0O7euw92Y7",
    "outputId": "c424da94-8f5c-4129-b579-00cefaf78361"
   },
   "outputs": [
    {
     "name": "stdout",
     "output_type": "stream",
     "text": [
      "Drive already mounted at /content/gdrive; to attempt to forcibly remount, call drive.mount(\"/content/gdrive\", force_remount=True).\n",
      "total 5.3M\n",
      "-rw------- 1 root root   42 Mar 15 15:16 counts.json\n",
      "-rw------- 1 root root  70K Mar 15 15:16 eval-00000-of-00010\n",
      "-rw------- 1 root root  65K Mar 15 15:16 eval-00001-of-00010\n",
      "-rw------- 1 root root  68K Mar 15 15:16 eval-00002-of-00010\n",
      "-rw------- 1 root root  61K Mar 15 15:16 eval-00003-of-00010\n",
      "-rw------- 1 root root  66K Mar 15 15:16 eval-00004-of-00010\n",
      "-rw------- 1 root root  62K Mar 15 15:16 eval-00005-of-00010\n",
      "-rw------- 1 root root  70K Mar 15 15:16 eval-00006-of-00010\n",
      "-rw------- 1 root root  63K Mar 15 15:16 eval-00007-of-00010\n",
      "-rw------- 1 root root  65K Mar 15 15:16 eval-00008-of-00010\n",
      "-rw------- 1 root root  75K Mar 15 15:16 eval-00009-of-00010\n",
      "-rw------- 1 root root  103 Mar 15 15:16 labels.txt\n",
      "-rw------- 1 root root 134K Mar 15 15:16 test-00000-of-00010\n",
      "-rw------- 1 root root 134K Mar 15 15:16 test-00001-of-00010\n",
      "-rw------- 1 root root 141K Mar 15 15:16 test-00002-of-00010\n",
      "-rw------- 1 root root 140K Mar 15 15:16 test-00003-of-00010\n",
      "-rw------- 1 root root 133K Mar 15 15:16 test-00004-of-00010\n",
      "-rw------- 1 root root 133K Mar 15 15:16 test-00005-of-00010\n",
      "-rw------- 1 root root 124K Mar 15 15:16 test-00006-of-00010\n",
      "-rw------- 1 root root 136K Mar 15 15:16 test-00007-of-00010\n",
      "-rw------- 1 root root 132K Mar 15 15:16 test-00008-of-00010\n",
      "-rw------- 1 root root 132K Mar 15 15:16 test-00009-of-00010\n",
      "-rw------- 1 root root 331K Mar 15 15:16 train-00000-of-00010\n",
      "-rw------- 1 root root 329K Mar 15 15:16 train-00001-of-00010\n",
      "-rw------- 1 root root 330K Mar 15 15:16 train-00002-of-00010\n",
      "-rw------- 1 root root 340K Mar 15 15:16 train-00003-of-00010\n",
      "-rw------- 1 root root 335K Mar 15 15:16 train-00004-of-00010\n",
      "-rw------- 1 root root 348K Mar 15 15:16 train-00005-of-00010\n",
      "-rw------- 1 root root 340K Mar 15 15:16 train-00006-of-00010\n",
      "-rw------- 1 root root 337K Mar 15 15:16 train-00007-of-00010\n",
      "-rw------- 1 root root 337K Mar 15 15:16 train-00008-of-00010\n",
      "-rw------- 1 root root 330K Mar 15 15:16 train-00009-of-00010\n"
     ]
    }
   ],
   "source": [
    "# (Copied from ./2_keras.ipynb)\n",
    "if data_path.startswith('/content/gdrive/'):\n",
    "  from google.colab import drive\n",
    "  drive.mount('/content/gdrive')\n",
    "if data_path.startswith('gs://'):\n",
    "  from google.colab import auth\n",
    "  auth.authenticate_user()\n",
    "  !gsutil ls -lh \"$data_path\"\n",
    "else:\n",
    "  !ls -lh \"$data_path\""
   ]
  },
  {
   "cell_type": "code",
   "execution_count": 9,
   "metadata": {
    "colab": {
     "base_uri": "https://localhost:8080/",
     "height": 164
    },
    "colab_type": "code",
    "executionInfo": {
     "elapsed": 864,
     "status": "ok",
     "timestamp": 1552663706577,
     "user": {
      "displayName": "Wafa Johal",
      "photoUrl": "https://lh6.googleusercontent.com/-dSe4vNhtGJo/AAAAAAAAAAI/AAAAAAAAIHU/HpRPL_mjkKo/s64/photo.jpg",
      "userId": "02628719330545126296"
     },
     "user_tz": -60
    },
    "id": "8j9Nxfe676Cw",
    "outputId": "dc5ec329-f8a9-45ac-e624-f9c00e2901ca"
   },
   "outputs": [
    {
     "name": "stdout",
     "output_type": "stream",
     "text": [
      "One TFRecords file:\n",
      "\t/content/gdrive/My Drive/Colab Notebooks/copainter_data/alphabet_stroke/train-00000-of-00010\n",
      "WARNING:tensorflow:From <ipython-input-9-1e2637c001f4>:5: tf_record_iterator (from tensorflow.python.lib.io.tf_record) is deprecated and will be removed in a future version.\n",
      "Instructions for updating:\n",
      "Use eager execution and: \n",
      "`tf.data.TFRecordDataset(path)`\n",
      "Features in example:\n",
      "\tkey_id label stroke_order stroke_x letter stroke_y l_id stroke_len\n"
     ]
    }
   ],
   "source": [
    "\n",
    "data_path_stroke = data_path.replace('_img', '_stroke')\n",
    "tf_records_file = tf.gfile.Glob('{}/train-*'.format(data_path_stroke))[0]\n",
    "print(\"One TFRecords file:\\n\\t{}\".format(tf_records_file))\n",
    "for record in tf.io.tf_record_iterator(tf.gfile.Glob('{}/train-*'.format(data_path_stroke))[0]):\n",
    "  first_example = tf.train.Example.FromString(record)\n",
    "  break\n",
    "print(\"Features in example:\\n\\t{}\".format(' '.join(first_example.features.feature.keys())))\n",
    "\n"
   ]
  },
  {
   "cell_type": "code",
   "execution_count": 0,
   "metadata": {
    "colab": {},
    "colab_type": "code",
    "id": "i_r25FTz-Ut-"
   },
   "outputs": [],
   "source": [
    "def convert_sparse(sparse, max_len):\n",
    "  \"\"\"Converts batched sparse tensor to dense tensor with specified size.\n",
    "\n",
    "  Args:\n",
    "    sparse: tf.SparseTensor instance of shape=[n].\n",
    "    max_len: Truncates / zero-pads the dense tensor the specified max_len.\n",
    "  \"\"\"\n",
    "  # Convert to dense tensor.\n",
    "  dense = tf.sparse.to_dense(sparse)\n",
    "  # Discard values above max_len.\n",
    "  dense = dense[:max_len]\n",
    "  # Zero-pad if length < max_len.\n",
    "  dense = tf.pad(dense, [[0, max_len - tf.shape(dense)[0]]])\n",
    "  return dense"
   ]
  },
  {
   "cell_type": "code",
   "execution_count": 11,
   "metadata": {
    "colab": {
     "base_uri": "https://localhost:8080/",
     "height": 90
    },
    "colab_type": "code",
    "executionInfo": {
     "elapsed": 1134,
     "status": "ok",
     "timestamp": 1552663808190,
     "user": {
      "displayName": "Wafa Johal",
      "photoUrl": "https://lh6.googleusercontent.com/-dSe4vNhtGJo/AAAAAAAAAAI/AAAAAAAAIHU/HpRPL_mjkKo/s64/photo.jpg",
      "userId": "02628719330545126296"
     },
     "user_tz": -60
    },
    "id": "sapdJcnd-XwF",
    "outputId": "e865252e-ea95-4fff-cc04-26c0f3c08647"
   },
   "outputs": [
    {
     "name": "stdout",
     "output_type": "stream",
     "text": [
      "Dense short (max_len=3):\n",
      "\t[1 2 3]\n",
      "Dense long (max_len=10):\n",
      "\t[1 2 3 4 5 0 0 0 0 0]\n"
     ]
    }
   ],
   "source": [
    "stroke_x = tf.SparseTensor(\n",
    "    indices=[[0], [1], [2], [3], [4]],\n",
    "    values=[1, 2, 3, 4, 5],\n",
    "    dense_shape=[5])\n",
    "# Extract both shorter and longer dense tensors.\n",
    "dense_short = convert_sparse(stroke_x, max_len=3)\n",
    "dense_long = convert_sparse(stroke_x, max_len=10)\n",
    "print(\"Dense short (max_len=3):\\n\\t{}\".format(dense_short.numpy()))\n",
    "print(\"Dense long (max_len=10):\\n\\t{}\".format(dense_long.numpy()))"
   ]
  },
  {
   "cell_type": "code",
   "execution_count": 12,
   "metadata": {
    "colab": {
     "base_uri": "https://localhost:8080/",
     "height": 110
    },
    "colab_type": "code",
    "executionInfo": {
     "elapsed": 1181,
     "status": "ok",
     "timestamp": 1552663834798,
     "user": {
      "displayName": "Wafa Johal",
      "photoUrl": "https://lh6.googleusercontent.com/-dSe4vNhtGJo/AAAAAAAAAAI/AAAAAAAAIHU/HpRPL_mjkKo/s64/photo.jpg",
      "userId": "02628719330545126296"
     },
     "user_tz": -60
    },
    "id": "mMbbqi4P-eRa",
    "outputId": "67576494-3ae9-46e3-8df5-61f21f42aeba"
   },
   "outputs": [
    {
     "name": "stdout",
     "output_type": "stream",
     "text": [
      "Labels(52):\n",
      "\t['a', 'b', 'c', 'd', 'e', 'f', 'g', 'h', 'i', 'j', 'k', 'l', 'm', 'n', 'o', 'p', 'q', 'r', 's', 't', 'u', 'v', 'w', 'x', 'y', 'z', 'A', 'B', 'C', 'D', 'E', 'F', 'G', 'H', 'I', 'J', 'K', 'L', 'M', 'N', 'O', 'P', 'Q', 'R', 'S', 'T', 'U', 'V', 'W', 'X', 'Y', 'Z']\n",
      "Counts:\n",
      "\t{'eval': 780, 'test': 1560, 'train': 3900}\n"
     ]
    }
   ],
   "source": [
    "labels_stroke = [label.strip() for label in tf.gfile.GFile('{}/labels.txt'.format(data_path_stroke))]\n",
    "counts_stroke = json.load(tf.gfile.GFile('{}/counts.json'.format(data_path_stroke)))\n",
    "print(\"Labels({:d}):\\n\\t{}\".format(len(labels_stroke), labels_stroke))\n",
    "print(\"Counts:\\n\\t{}\".format(counts_stroke))"
   ]
  },
  {
   "cell_type": "code",
   "execution_count": 0,
   "metadata": {
    "colab": {},
    "colab_type": "code",
    "id": "6Oz0uUkB-o89"
   },
   "outputs": [],
   "source": [
    "# Maximum number of points in concatenated strokes (known beforehand).\n",
    "MAX_LEN = 256\n",
    "\n",
    "# Because every drawing has a different number of points, we use \"VarLenFeature\"\n",
    "# and not \"FixedLenFeature\" for the stroke data. This will create a\n",
    "# \"SparseTensor\".\n",
    "feature_spec_stroke = {\n",
    "    'stroke_x': tf.VarLenFeature(dtype=tf.float32),\n",
    "    'stroke_y': tf.VarLenFeature(dtype=tf.float32),\n",
    "    'stroke_z': tf.VarLenFeature(dtype=tf.float32),\n",
    "    'stroke_len': tf.FixedLenFeature([], tf.int64),\n",
    "    'label': tf.FixedLenFeature([], tf.int64),\n",
    "}\n",
    "\n",
    "def parse_example_stroke(serialized_example):\n",
    "  \"\"\"Parses a given tf.Example and creates a dense (limited) length tensor.\n",
    "\n",
    "  Args:\n",
    "    serialized_example: tf.Example to parse.\n",
    "  \"\"\"\n",
    "  features = tf.parse_single_example(serialized_example, feature_spec_stroke)\n",
    "  label = features.pop('label')\n",
    "\n",
    "  # We create a 'stroke' tensor with shape [3, MAX_LEN] where the first\n",
    "  # dimension indicates whether the values are X, Y, or Z coordinates.\n",
    "  stroke = tf.stack([\n",
    "      convert_sparse(features['stroke_x'], max_len=MAX_LEN),\n",
    "      convert_sparse(features['stroke_y'], max_len=MAX_LEN),\n",
    "      convert_sparse(features['stroke_z'], max_len=MAX_LEN),\n",
    "  ])\n",
    "  stroke = tf.transpose(stroke, perm=[1, 0])\n",
    "\n",
    "  # Also truncate the \"stroke_len\" to MAX_LEN if needed.\n",
    "  stroke_len = tf.minimum(tf.cast(MAX_LEN, tf.int64), features['stroke_len'])\n",
    "\n",
    "  return stroke, tf.one_hot(label, depth=len(labels_stroke))\n",
    "\n",
    "def make_ds_stroke(files_pattern, batch_size=100):\n",
    "  \"\"\"Converts all data within multiple TFRecord files into a\n",
    "     dense (limited) length tensor format, shuffles them and creates batches.\n",
    "\n",
    "  Args:\n",
    "    files_pattern: Path with the format `[...]/train-*`.\n",
    "    batch_size: Size to use for generating batches. \n",
    "  \"\"\"\n",
    "  dataset = tf.data.TFRecordDataset(tf.gfile.Glob(files_pattern))\n",
    "  dataset = dataset.map(parse_example_stroke).batch(batch_size)\n",
    "  dataset = dataset.shuffle(buffer_size=5*batch_size).repeat()\n",
    "  return dataset"
   ]
  },
  {
   "cell_type": "code",
   "execution_count": 0,
   "metadata": {
    "colab": {},
    "colab_type": "code",
    "id": "S6iHzmNyA5d0"
   },
   "outputs": [],
   "source": [
    "batch_size = 10\n",
    "steps_per_epoch = counts_stroke['train'] // batch_size\n",
    "ds_stroke = make_ds_stroke('{}/train-*'.format(data_path_stroke), batch_size)\n",
    "ds_stroke_test = make_ds_stroke('{}/test-*'.format(data_path_stroke), batch_size)"
   ]
  },
  {
   "cell_type": "markdown",
   "metadata": {
    "colab_type": "text",
    "id": "wuh0NOyu8u-A"
   },
   "source": [
    "#  2.  Data Inspection"
   ]
  },
  {
   "cell_type": "code",
   "execution_count": 24,
   "metadata": {
    "colab": {
     "base_uri": "https://localhost:8080/",
     "height": 155
    },
    "colab_type": "code",
    "executionInfo": {
     "elapsed": 782,
     "status": "ok",
     "timestamp": 1552664891870,
     "user": {
      "displayName": "Wafa Johal",
      "photoUrl": "https://lh6.googleusercontent.com/-dSe4vNhtGJo/AAAAAAAAAAI/AAAAAAAAIHU/HpRPL_mjkKo/s64/photo.jpg",
      "userId": "02628719330545126296"
     },
     "user_tz": -60
    },
    "id": "WKktfR0SA-OW",
    "outputId": "267df688-9b4f-4584-d59a-ce89dec6e2a5"
   },
   "outputs": [
    {
     "data": {
      "image/png": "[encoded data removed]",
      "text/plain": [
       "<Figure size 720x144 with 5 Axes>"
      ]
     },
     "metadata": {
      "tags": []
     },
     "output_type": "display_data"
    }
   ],
   "source": [
    "# From ./1_data.ipynb\n",
    "\n",
    "from matplotlib import pyplot as plt\n",
    "\n",
    "def show_stroke_img(stroke, label, ax=None):\n",
    "  \"\"\"Plots stroke data.\n",
    "\n",
    "  Args:\n",
    "    stroke: Array of shape=[3, n] where the second dimension\n",
    "        is time and the first dimension indicates X/Y coordinates\n",
    "        and Z-dimension that is set to 1 when a stroke ends and\n",
    "        0 otherwise (the array actually represents an array of\n",
    "        concatenated strokes and the Z-dimension is needed to tell\n",
    "        the individual strokes apart).\n",
    "  \"\"\"\n",
    "  ax = ax if ax else plt.gca()\n",
    "  xy = stroke[:2, :].cumsum(axis=1)\n",
    "  ax.plot(xy[0, :], -xy[1, :])\n",
    "  # Plot all the strokes, including connecting line between strokes.\n",
    "  pxy = xy[:, stroke[2] != 0]\n",
    "  # Red dots mark end of individual strokes.\n",
    "  ax.plot(pxy[0], -pxy[1], 'ro')\n",
    "  ax.set_xticks([])\n",
    "  ax.set_yticks([])\n",
    "  ax.set_title(label)\n",
    "\n",
    "# Load a single batch of images:\n",
    "for x, y in ds_stroke:\n",
    "  break\n",
    "\n",
    "# Plot some images\n",
    "plt.figure(figsize=(10, 2))\n",
    "for i in range(5):\n",
    "  ax = plt.subplot(1, 5, i+1)\n",
    "  show_stroke_img(x[i].numpy().T, labels_stroke[y[i].numpy().argmax()], ax)"
   ]
  },
  {
   "cell_type": "markdown",
   "metadata": {
    "colab_type": "text",
    "id": "2st7CkVp81W8"
   },
   "source": [
    "# 3. Model Definition"
   ]
  },
  {
   "cell_type": "code",
   "execution_count": 25,
   "metadata": {
    "colab": {
     "base_uri": "https://localhost:8080/",
     "height": 219
    },
    "colab_type": "code",
    "executionInfo": {
     "elapsed": 1241,
     "status": "ok",
     "timestamp": 1552664895165,
     "user": {
      "displayName": "Wafa Johal",
      "photoUrl": "https://lh6.googleusercontent.com/-dSe4vNhtGJo/AAAAAAAAAAI/AAAAAAAAIHU/HpRPL_mjkKo/s64/photo.jpg",
      "userId": "02628719330545126296"
     },
     "user_tz": -60
    },
    "id": "tasOihXoBbRr",
    "outputId": "171cd070-bf1a-463b-dd32-e4b3a2c5194d"
   },
   "outputs": [
    {
     "name": "stdout",
     "output_type": "stream",
     "text": [
      "_________________________________________________________________\n",
      "Layer (type)                 Output Shape              Param #   \n",
      "=================================================================\n",
      "bidirectional_1 (Bidirection (None, 512)               534528    \n",
      "_________________________________________________________________\n",
      "dense_1 (Dense)              (None, 52)                26676     \n",
      "=================================================================\n",
      "Total params: 561,204\n",
      "Trainable params: 561,204\n",
      "Non-trainable params: 0\n",
      "_________________________________________________________________\n"
     ]
    }
   ],
   "source": [
    "lstm_model = tf.keras.Sequential()\n",
    "\n",
    "if tf.test.is_gpu_available():\n",
    "  # CuDNNLSTM doesn't support masking.\n",
    "  lstm_model.add(tf.keras.layers.Bidirectional(tf.keras.layers.CuDNNLSTM(units=256), input_shape=(MAX_LEN, 3)))\n",
    "else:\n",
    "  # Masking means that we don't do computations on all the \"0\" used for padding\n",
    "  # of sequences shorter than MAX_LEN.\n",
    "  # While masking is not strictly needed it makes learning a lot faster.\n",
    "  lstm_model.add(tf.keras.layers.Masking(mask_value=0., input_shape=(MAX_LEN, 3)))\n",
    "  lstm_model.add(tf.keras.layers.Bidirectional(tf.keras.layers.LSTM(units=256), input_shape=(MAX_LEN, 3)))\n",
    "\n",
    "lstm_model.add(tf.keras.layers.Dense(len(labels_stroke), activation='softmax'))\n",
    "\n",
    "lstm_model.compile(\n",
    "    optimizer=tf.train.AdamOptimizer(0.01),\n",
    "    loss='categorical_crossentropy',\n",
    "    metrics=['accuracy', tf.keras.metrics.categorical_accuracy])\n",
    "\n",
    "lstm_model.summary()"
   ]
  },
  {
   "cell_type": "markdown",
   "metadata": {
    "colab_type": "text",
    "id": "Be1PX0g484VY"
   },
   "source": [
    "#4. Model Training\n"
   ]
  },
  {
   "cell_type": "code",
   "execution_count": 26,
   "metadata": {
    "colab": {
     "base_uri": "https://localhost:8080/",
     "height": 72
    },
    "colab_type": "code",
    "executionInfo": {
     "elapsed": 50772,
     "status": "ok",
     "timestamp": 1552664948552,
     "user": {
      "displayName": "Wafa Johal",
      "photoUrl": "https://lh6.googleusercontent.com/-dSe4vNhtGJo/AAAAAAAAAAI/AAAAAAAAIHU/HpRPL_mjkKo/s64/photo.jpg",
      "userId": "02628719330545126296"
     },
     "user_tz": -60
    },
    "id": "7HFM5NQPBfsV",
    "outputId": "1ffe4d63-fa83-4062-9d8e-5eb9eb048aae"
   },
   "outputs": [
    {
     "name": "stdout",
     "output_type": "stream",
     "text": [
      "390/390 [==============================] - 49s 125ms/step - loss: 4.2794 - acc: 0.0179 - categorical_accuracy: 0.0179\n",
      "20/20 [==============================] - 1s 58ms/step - loss: 4.0458 - acc: 0.0150 - categorical_accuracy: 0.0150\n"
     ]
    },
    {
     "data": {
      "text/plain": [
       "[4.045832574367523, 0.015, 0.015]"
      ]
     },
     "execution_count": 26,
     "metadata": {
      "tags": []
     },
     "output_type": "execute_result"
    }
   ],
   "source": [
    "# This is a pretty heavy model. If you train on CPU you probably want to reduce\n",
    "# the number of steps...\n",
    "lstm_model.fit(ds_stroke, steps_per_epoch=steps_per_epoch, epochs=1)\n",
    "lstm_model.evaluate(ds_stroke_test, steps=20)"
   ]
  },
  {
   "cell_type": "code",
   "execution_count": 0,
   "metadata": {
    "colab": {},
    "colab_type": "code",
    "id": "hiVaORdwC_BW"
   },
   "outputs": [],
   "source": []
  }
 ],
 "metadata": {
  "accelerator": "GPU",
  "colab": {
   "name": "TrainLSTM.ipynb",
   "provenance": [],
   "version": "0.3.2"
  },
  "kernelspec": {
   "display_name": "Python 2",
   "language": "python",
   "name": "python2"
  },
  "language_info": {
   "codemirror_mode": {
    "name": "ipython",
    "version": 2
   },
   "file_extension": ".py",
   "mimetype": "text/x-python",
   "name": "python",
   "nbconvert_exporter": "python",
   "pygments_lexer": "ipython2",
   "version": "2.7.12"
  }
 },
 "nbformat": 4,
 "nbformat_minor": 1
}
